{
  "nbformat": 4,
  "nbformat_minor": 0,
  "metadata": {
    "colab": {
      "name": "data storm 2.0.ipynb",
      "provenance": [],
      "collapsed_sections": [],
      "toc_visible": true
    },
    "kernelspec": {
      "name": "python3",
      "display_name": "Python 3"
    }
  },
  "cells": [
    {
      "cell_type": "markdown",
      "metadata": {
        "id": "vslfJCaDX83f"
      },
      "source": [
        "# This is  draft version 1 of the notebook used for the data storm 2.0"
      ]
    },
    {
      "cell_type": "code",
      "metadata": {
        "colab": {
          "base_uri": "https://localhost:8080/"
        },
        "id": "ppUQ0l3yuKQe",
        "outputId": "bc1845a2-e69c-47de-83c8-0a5a38dbc2cc"
      },
      "source": [
        "!pip install catboost"
      ],
      "execution_count": 2,
      "outputs": [
        {
          "output_type": "stream",
          "text": [
            "Collecting catboost\n",
            "\u001b[?25l  Downloading https://files.pythonhosted.org/packages/96/3b/bb419654adcf7efff42ed8a3f84e50c8f236424b7ed1cc8ccd290852e003/catboost-0.24.4-cp37-none-manylinux1_x86_64.whl (65.7MB)\n",
            "\u001b[K     |████████████████████████████████| 65.7MB 58kB/s \n",
            "\u001b[?25hRequirement already satisfied: scipy in /usr/local/lib/python3.7/dist-packages (from catboost) (1.4.1)\n",
            "Requirement already satisfied: matplotlib in /usr/local/lib/python3.7/dist-packages (from catboost) (3.2.2)\n",
            "Requirement already satisfied: plotly in /usr/local/lib/python3.7/dist-packages (from catboost) (4.4.1)\n",
            "Requirement already satisfied: pandas>=0.24.0 in /usr/local/lib/python3.7/dist-packages (from catboost) (1.1.5)\n",
            "Requirement already satisfied: numpy>=1.16.0 in /usr/local/lib/python3.7/dist-packages (from catboost) (1.19.5)\n",
            "Requirement already satisfied: six in /usr/local/lib/python3.7/dist-packages (from catboost) (1.15.0)\n",
            "Requirement already satisfied: graphviz in /usr/local/lib/python3.7/dist-packages (from catboost) (0.10.1)\n",
            "Requirement already satisfied: pyparsing!=2.0.4,!=2.1.2,!=2.1.6,>=2.0.1 in /usr/local/lib/python3.7/dist-packages (from matplotlib->catboost) (2.4.7)\n",
            "Requirement already satisfied: kiwisolver>=1.0.1 in /usr/local/lib/python3.7/dist-packages (from matplotlib->catboost) (1.3.1)\n",
            "Requirement already satisfied: cycler>=0.10 in /usr/local/lib/python3.7/dist-packages (from matplotlib->catboost) (0.10.0)\n",
            "Requirement already satisfied: python-dateutil>=2.1 in /usr/local/lib/python3.7/dist-packages (from matplotlib->catboost) (2.8.1)\n",
            "Requirement already satisfied: retrying>=1.3.3 in /usr/local/lib/python3.7/dist-packages (from plotly->catboost) (1.3.3)\n",
            "Requirement already satisfied: pytz>=2017.2 in /usr/local/lib/python3.7/dist-packages (from pandas>=0.24.0->catboost) (2018.9)\n",
            "Installing collected packages: catboost\n",
            "Successfully installed catboost-0.24.4\n"
          ],
          "name": "stdout"
        }
      ]
    },
    {
      "cell_type": "markdown",
      "metadata": {
        "id": "oN7DjoLvYLkl"
      },
      "source": [
        "Import the required modules \r\n",
        "\r\n"
      ]
    },
    {
      "cell_type": "code",
      "metadata": {
        "id": "P_OiKyzcXNnp",
        "colab": {
          "base_uri": "https://localhost:8080/"
        },
        "outputId": "db9485db-d5fe-4e68-c8d4-c602f9f7c50a"
      },
      "source": [
        "import pandas as pd\r\n",
        "import numpy as np\r\n",
        "from google.colab import drive\r\n",
        "from sklearn.tree import DecisionTreeClassifier\r\n",
        "from sklearn.ensemble import RandomForestClassifier,ExtraTreesClassifier\r\n",
        "from sklearn.linear_model import LogisticRegression\r\n",
        "from sklearn.naive_bayes import GaussianNB\r\n",
        "from sklearn.discriminant_analysis import LinearDiscriminantAnalysis\r\n",
        "from xgboost.sklearn import XGBClassifier\r\n",
        "from sklearn.neural_network import MLPClassifier\r\n",
        "from sklearn.neighbors import KNeighborsClassifier\r\n",
        "from lightgbm import LGBMClassifier\r\n",
        "from catboost import CatBoostClassifier\r\n",
        "from sklearn.model_selection import KFold,StratifiedKFold\r\n",
        "from sklearn.preprocessing import OneHotEncoder,MinMaxScaler\r\n",
        "from sklearn.model_selection import cross_val_score\r\n",
        "from tqdm import tqdm\r\n",
        "from datetime import datetime,timedelta\r\n",
        "from imblearn.over_sampling import SMOTENC"
      ],
      "execution_count": 3,
      "outputs": [
        {
          "output_type": "stream",
          "text": [
            "/usr/local/lib/python3.7/dist-packages/sklearn/externals/six.py:31: FutureWarning: The module is deprecated in version 0.21 and will be removed in version 0.23 since we've dropped support for Python 2.7. Please rely on the official version of six (https://pypi.org/project/six/).\n",
            "  \"(https://pypi.org/project/six/).\", FutureWarning)\n",
            "/usr/local/lib/python3.7/dist-packages/sklearn/utils/deprecation.py:144: FutureWarning: The sklearn.neighbors.base module is  deprecated in version 0.22 and will be removed in version 0.24. The corresponding classes / functions should instead be imported from sklearn.neighbors. Anything that cannot be imported from sklearn.neighbors is now part of the private API.\n",
            "  warnings.warn(message, FutureWarning)\n"
          ],
          "name": "stderr"
        }
      ]
    },
    {
      "cell_type": "markdown",
      "metadata": {
        "id": "pI1lh0Zcawoq"
      },
      "source": [
        "Read csv to pandas dataframe"
      ]
    },
    {
      "cell_type": "code",
      "metadata": {
        "colab": {
          "base_uri": "https://localhost:8080/"
        },
        "id": "wyiS6CBbYHDU",
        "outputId": "e5c997dc-1e3f-473f-c172-6e4cd5b4543b"
      },
      "source": [
        "drive.mount('/content/gdrive')\r\n",
        "train= pd.read_csv('/content/gdrive/MyDrive/Data storm 2.0/Data/Hotel-A-train.csv')\r\n",
        "validation = pd.read_csv('/content/gdrive/MyDrive/Data storm 2.0/Data/Hotel-A-validation.csv')\r\n",
        "test= pd.read_csv('/content/gdrive/MyDrive/Data storm 2.0/Data/Hotel-A-test.csv')"
      ],
      "execution_count": 4,
      "outputs": [
        {
          "output_type": "stream",
          "text": [
            "Mounted at /content/gdrive\n"
          ],
          "name": "stdout"
        }
      ]
    },
    {
      "cell_type": "code",
      "metadata": {
        "id": "nC8GOfOoZsMh",
        "colab": {
          "base_uri": "https://localhost:8080/"
        },
        "outputId": "421e0289-2eda-434d-b7de-7368b922bc69"
      },
      "source": [
        "train.shape"
      ],
      "execution_count": null,
      "outputs": [
        {
          "output_type": "execute_result",
          "data": {
            "text/plain": [
              "(27499, 24)"
            ]
          },
          "metadata": {
            "tags": []
          },
          "execution_count": 3
        }
      ]
    },
    {
      "cell_type": "code",
      "metadata": {
        "id": "GJhgt31qZ_Cv",
        "colab": {
          "base_uri": "https://localhost:8080/",
          "height": 292
        },
        "outputId": "ab967929-7587-4cbf-c311-8b21db3632be"
      },
      "source": [
        "train.head()"
      ],
      "execution_count": null,
      "outputs": [
        {
          "output_type": "execute_result",
          "data": {
            "text/html": [
              "<div>\n",
              "<style scoped>\n",
              "    .dataframe tbody tr th:only-of-type {\n",
              "        vertical-align: middle;\n",
              "    }\n",
              "\n",
              "    .dataframe tbody tr th {\n",
              "        vertical-align: top;\n",
              "    }\n",
              "\n",
              "    .dataframe thead th {\n",
              "        text-align: right;\n",
              "    }\n",
              "</style>\n",
              "<table border=\"1\" class=\"dataframe\">\n",
              "  <thead>\n",
              "    <tr style=\"text-align: right;\">\n",
              "      <th></th>\n",
              "      <th>Reservation-id</th>\n",
              "      <th>Gender</th>\n",
              "      <th>Age</th>\n",
              "      <th>Ethnicity</th>\n",
              "      <th>Educational_Level</th>\n",
              "      <th>Income</th>\n",
              "      <th>Country_region</th>\n",
              "      <th>Hotel_Type</th>\n",
              "      <th>Expected_checkin</th>\n",
              "      <th>Expected_checkout</th>\n",
              "      <th>Booking_date</th>\n",
              "      <th>Adults</th>\n",
              "      <th>Children</th>\n",
              "      <th>Babies</th>\n",
              "      <th>Meal_Type</th>\n",
              "      <th>Visted_Previously</th>\n",
              "      <th>Previous_Cancellations</th>\n",
              "      <th>Deposit_type</th>\n",
              "      <th>Booking_channel</th>\n",
              "      <th>Required_Car_Parking</th>\n",
              "      <th>Reservation_Status</th>\n",
              "      <th>Use_Promotion</th>\n",
              "      <th>Discount_Rate</th>\n",
              "      <th>Room_Rate</th>\n",
              "    </tr>\n",
              "  </thead>\n",
              "  <tbody>\n",
              "    <tr>\n",
              "      <th>0</th>\n",
              "      <td>39428300</td>\n",
              "      <td>F</td>\n",
              "      <td>40</td>\n",
              "      <td>Latino</td>\n",
              "      <td>Grad</td>\n",
              "      <td>&lt;25K</td>\n",
              "      <td>North</td>\n",
              "      <td>City Hotel</td>\n",
              "      <td>7/1/2015</td>\n",
              "      <td>7/2/2015</td>\n",
              "      <td>5/21/2015</td>\n",
              "      <td>2</td>\n",
              "      <td>2</td>\n",
              "      <td>0</td>\n",
              "      <td>BB</td>\n",
              "      <td>No</td>\n",
              "      <td>No</td>\n",
              "      <td>No Deposit</td>\n",
              "      <td>Online</td>\n",
              "      <td>Yes</td>\n",
              "      <td>Check-In</td>\n",
              "      <td>Yes</td>\n",
              "      <td>10</td>\n",
              "      <td>218</td>\n",
              "    </tr>\n",
              "    <tr>\n",
              "      <th>1</th>\n",
              "      <td>77491756</td>\n",
              "      <td>F</td>\n",
              "      <td>49</td>\n",
              "      <td>Latino</td>\n",
              "      <td>Mid-School</td>\n",
              "      <td>50K -- 100K</td>\n",
              "      <td>East</td>\n",
              "      <td>City Hotel</td>\n",
              "      <td>7/1/2015</td>\n",
              "      <td>7/2/2015</td>\n",
              "      <td>5/26/2015</td>\n",
              "      <td>3</td>\n",
              "      <td>3</td>\n",
              "      <td>0</td>\n",
              "      <td>BB</td>\n",
              "      <td>No</td>\n",
              "      <td>No</td>\n",
              "      <td>Refundable</td>\n",
              "      <td>Online</td>\n",
              "      <td>Yes</td>\n",
              "      <td>Check-In</td>\n",
              "      <td>No</td>\n",
              "      <td>0</td>\n",
              "      <td>185</td>\n",
              "    </tr>\n",
              "    <tr>\n",
              "      <th>2</th>\n",
              "      <td>73747291</td>\n",
              "      <td>F</td>\n",
              "      <td>42</td>\n",
              "      <td>caucasian</td>\n",
              "      <td>Grad</td>\n",
              "      <td>&lt;25K</td>\n",
              "      <td>East</td>\n",
              "      <td>City Hotel</td>\n",
              "      <td>7/2/2015</td>\n",
              "      <td>7/6/2015</td>\n",
              "      <td>6/29/2015</td>\n",
              "      <td>3</td>\n",
              "      <td>3</td>\n",
              "      <td>0</td>\n",
              "      <td>BB</td>\n",
              "      <td>No</td>\n",
              "      <td>No</td>\n",
              "      <td>No Deposit</td>\n",
              "      <td>Online</td>\n",
              "      <td>Yes</td>\n",
              "      <td>Check-In</td>\n",
              "      <td>No</td>\n",
              "      <td>0</td>\n",
              "      <td>119</td>\n",
              "    </tr>\n",
              "    <tr>\n",
              "      <th>3</th>\n",
              "      <td>67301739</td>\n",
              "      <td>M</td>\n",
              "      <td>25</td>\n",
              "      <td>African American</td>\n",
              "      <td>College</td>\n",
              "      <td>&gt;100K</td>\n",
              "      <td>South</td>\n",
              "      <td>Airport Hotels</td>\n",
              "      <td>7/2/2015</td>\n",
              "      <td>7/3/2015</td>\n",
              "      <td>6/20/2015</td>\n",
              "      <td>4</td>\n",
              "      <td>3</td>\n",
              "      <td>0</td>\n",
              "      <td>BB</td>\n",
              "      <td>No</td>\n",
              "      <td>No</td>\n",
              "      <td>Refundable</td>\n",
              "      <td>Agent</td>\n",
              "      <td>Yes</td>\n",
              "      <td>Check-In</td>\n",
              "      <td>Yes</td>\n",
              "      <td>5</td>\n",
              "      <td>144</td>\n",
              "    </tr>\n",
              "    <tr>\n",
              "      <th>4</th>\n",
              "      <td>77222321</td>\n",
              "      <td>F</td>\n",
              "      <td>62</td>\n",
              "      <td>Latino</td>\n",
              "      <td>High-School</td>\n",
              "      <td>25K --50K</td>\n",
              "      <td>East</td>\n",
              "      <td>Resort</td>\n",
              "      <td>7/3/2015</td>\n",
              "      <td>7/4/2015</td>\n",
              "      <td>6/20/2015</td>\n",
              "      <td>1</td>\n",
              "      <td>1</td>\n",
              "      <td>0</td>\n",
              "      <td>BB</td>\n",
              "      <td>No</td>\n",
              "      <td>No</td>\n",
              "      <td>No Deposit</td>\n",
              "      <td>Direct</td>\n",
              "      <td>No</td>\n",
              "      <td>Check-In</td>\n",
              "      <td>Yes</td>\n",
              "      <td>10</td>\n",
              "      <td>242</td>\n",
              "    </tr>\n",
              "  </tbody>\n",
              "</table>\n",
              "</div>"
            ],
            "text/plain": [
              "   Reservation-id Gender  Age  ... Use_Promotion Discount_Rate Room_Rate\n",
              "0        39428300      F   40  ...           Yes            10       218\n",
              "1        77491756      F   49  ...            No             0       185\n",
              "2        73747291      F   42  ...            No             0       119\n",
              "3        67301739      M   25  ...           Yes             5       144\n",
              "4        77222321      F   62  ...           Yes            10       242\n",
              "\n",
              "[5 rows x 24 columns]"
            ]
          },
          "metadata": {
            "tags": []
          },
          "execution_count": 4
        }
      ]
    },
    {
      "cell_type": "code",
      "metadata": {
        "id": "6HbUlUWTLoNT",
        "colab": {
          "base_uri": "https://localhost:8080/"
        },
        "outputId": "f92967cc-ea75-49cf-dbc7-5564909a37bb"
      },
      "source": [
        "train.isnull().sum()"
      ],
      "execution_count": null,
      "outputs": [
        {
          "output_type": "execute_result",
          "data": {
            "text/plain": [
              "Reservation-id            0\n",
              "Gender                    0\n",
              "Age                       0\n",
              "Ethnicity                 0\n",
              "Educational_Level         0\n",
              "Income                    0\n",
              "Country_region            0\n",
              "Hotel_Type                0\n",
              "Expected_checkin          0\n",
              "Expected_checkout         0\n",
              "Booking_date              0\n",
              "Adults                    0\n",
              "Children                  0\n",
              "Babies                    0\n",
              "Meal_Type                 0\n",
              "Visted_Previously         0\n",
              "Previous_Cancellations    0\n",
              "Deposit_type              0\n",
              "Booking_channel           0\n",
              "Required_Car_Parking      0\n",
              "Reservation_Status        0\n",
              "Use_Promotion             0\n",
              "Discount_Rate             0\n",
              "Room_Rate                 0\n",
              "dtype: int64"
            ]
          },
          "metadata": {
            "tags": []
          },
          "execution_count": 5
        }
      ]
    },
    {
      "cell_type": "code",
      "metadata": {
        "id": "apVcNjSNLsl9",
        "colab": {
          "base_uri": "https://localhost:8080/"
        },
        "outputId": "d194771b-45fd-4775-daa1-80241709d3fc"
      },
      "source": [
        "train.dtypes"
      ],
      "execution_count": null,
      "outputs": [
        {
          "output_type": "execute_result",
          "data": {
            "text/plain": [
              "Reservation-id             int64\n",
              "Gender                    object\n",
              "Age                        int64\n",
              "Ethnicity                 object\n",
              "Educational_Level         object\n",
              "Income                    object\n",
              "Country_region            object\n",
              "Hotel_Type                object\n",
              "Expected_checkin          object\n",
              "Expected_checkout         object\n",
              "Booking_date              object\n",
              "Adults                     int64\n",
              "Children                   int64\n",
              "Babies                     int64\n",
              "Meal_Type                 object\n",
              "Visted_Previously         object\n",
              "Previous_Cancellations    object\n",
              "Deposit_type              object\n",
              "Booking_channel           object\n",
              "Required_Car_Parking      object\n",
              "Reservation_Status        object\n",
              "Use_Promotion             object\n",
              "Discount_Rate              int64\n",
              "Room_Rate                  int64\n",
              "dtype: object"
            ]
          },
          "metadata": {
            "tags": []
          },
          "execution_count": 6
        }
      ]
    },
    {
      "cell_type": "markdown",
      "metadata": {
        "id": "cWRhHc0maJJ5"
      },
      "source": [
        "# Functions"
      ]
    },
    {
      "cell_type": "code",
      "metadata": {
        "id": "0Ht0A1ioaAN-"
      },
      "source": [
        "def get_month(date):\r\n",
        "  return int(date.split('/')[0])\r\n",
        "\r\n",
        "def get_day(date):\r\n",
        "  return int(date.split('/')[1])\r\n",
        "\r\n",
        "def get_year(date):\r\n",
        "  return int(date.split('/')[2])\r\n",
        "\r\n",
        "def get_week_of_year(date):\r\n",
        "  return datetime.strptime(date, \"%m/%d/%Y\").isocalendar()[1]\r\n",
        "\r\n",
        "def get_days(start,end):\r\n",
        "  return (datetime.strptime(end, \"%m/%d/%Y\").date() -datetime.strptime(start, \"%m/%d/%Y\").date()).days\r\n",
        "\r\n",
        "def get_day_of_year(date_string):\r\n",
        "  return (datetime.strptime(date_string, '%m/%d/%Y')).timetuple().tm_yday\r\n",
        "\r\n",
        "# returns [Friday, Saturday, etc.]\r\n",
        "def get_day_of_week(date_string):\r\n",
        "  return datetime.strptime(date_string, '%m/%d/%Y').strftime('%A')\r\n",
        "\r\n",
        "def workdays(start, end, excluded=(6, 7)):\r\n",
        "  start= datetime.strptime(start, \"%m/%d/%Y\")\r\n",
        "  end= datetime.strptime(end, \"%m/%d/%Y\")\r\n",
        "  days = []\r\n",
        "  while start.date() <= end.date():\r\n",
        "      if start.isoweekday() not in excluded:\r\n",
        "          days.append(start)\r\n",
        "      start += timedelta(days=1)\r\n",
        "  return len(days)\r\n",
        "\r\n",
        "def weekend_days(start, end, included=(6, 7)):\r\n",
        "  start= datetime.strptime(start, \"%m/%d/%Y\")\r\n",
        "  end= datetime.strptime(end, \"%m/%d/%Y\")\r\n",
        "  days = []\r\n",
        "  while start.date() <= end.date():\r\n",
        "      if start.isoweekday()  in included:\r\n",
        "          days.append(start)\r\n",
        "      start += timedelta(days=1)\r\n",
        "  return len(days)"
      ],
      "execution_count": 5,
      "outputs": []
    },
    {
      "cell_type": "code",
      "metadata": {
        "id": "-TUSIHxXdoiU",
        "colab": {
          "base_uri": "https://localhost:8080/"
        },
        "outputId": "ef52bdb9-4b98-4d60-e7f7-17cf6a511f88"
      },
      "source": [
        "train_adr = {\n",
        "    'City Hotel': {},\n",
        "    'Airport Hotels': {},\n",
        "    'Resort': {}\n",
        "}\n",
        "\n",
        "validation_adr = {\n",
        "    'City Hotel': {},\n",
        "    'Airport Hotels': {},\n",
        "    'Resort': {}\n",
        "}\n",
        "\n",
        "test_adr = {\n",
        "    'City Hotel': {},\n",
        "    'Airport Hotels': {},\n",
        "    'Resort': {}\n",
        "}\n",
        "\n",
        "def calculate_adr_per_row(checkin, checkout, hotel_type, room_rate, dictionary):\n",
        "  day = get_day(checkin)\n",
        "  month = get_month(checkin)\n",
        "  year = get_year(checkin)\n",
        "  days_between = get_days(checkin, checkout)\n",
        "\n",
        "  for i in range(days_between):\n",
        "    key = f'{month}/{day+i}/{year}'\n",
        "    if key in dictionary[hotel_type]:\n",
        "      dictionary[hotel_type][key]['room_rate'] += room_rate\n",
        "      dictionary[hotel_type][key]['room_count'] += 1\n",
        "    else:\n",
        "      dictionary[hotel_type][key] = {'room_rate': room_rate, 'room_count': 1 }\n",
        "      \n",
        "train.apply(lambda x: calculate_adr_per_row(x['Expected_checkin'], x['Expected_checkout'], x['Hotel_Type'], x['Room_Rate'], train_adr), axis=1)\n",
        "validation.apply(lambda x: calculate_adr_per_row(x['Expected_checkin'], x['Expected_checkout'], x['Hotel_Type'], x['Room_Rate'], validation_adr), axis=1)\n",
        "test.apply(lambda x: calculate_adr_per_row(x['Expected_checkin'], x['Expected_checkout'], x['Hotel_Type'], x['Room_Rate'], test_adr), axis=1)"
      ],
      "execution_count": 6,
      "outputs": [
        {
          "output_type": "execute_result",
          "data": {
            "text/plain": [
              "0       None\n",
              "1       None\n",
              "2       None\n",
              "3       None\n",
              "4       None\n",
              "        ... \n",
              "4313    None\n",
              "4314    None\n",
              "4315    None\n",
              "4316    None\n",
              "4317    None\n",
              "Length: 4318, dtype: object"
            ]
          },
          "metadata": {
            "tags": []
          },
          "execution_count": 6
        }
      ]
    },
    {
      "cell_type": "code",
      "metadata": {
        "id": "3NydcNP4Qz7O"
      },
      "source": [
        "def get_adr(date, hotel_type, mode=''):\r\n",
        "  try:\r\n",
        "    if (mode=='val'):\r\n",
        "      return validation_adr[hotel_type][date]['room_rate']/validation_adr[hotel_type][date]['room_count']\r\n",
        "    elif mode == 'test':\r\n",
        "      return test_adr[hotel_type][date]['room_rate']/test_adr[hotel_type][date]['room_count']\r\n",
        "    return train_adr[hotel_type][date]['room_rate']/train_adr[hotel_type][date]['room_count']\r\n",
        "  except Exception as e:\r\n",
        "    print(mode, 'mode')\r\n",
        "    print(e,mode)\r\n",
        "    return 0"
      ],
      "execution_count": 7,
      "outputs": []
    },
    {
      "cell_type": "code",
      "metadata": {
        "id": "DwZOHy9FHupq"
      },
      "source": [
        "def get_room_count(date, hotel_type, mode=''):\r\n",
        "  try:\r\n",
        "    if (mode=='val'):\r\n",
        "      return validation_adr[hotel_type][date]['room_count']\r\n",
        "    elif mode == 'test':\r\n",
        "      return test_adr[hotel_type][date]['room_count']\r\n",
        "    return train_adr[hotel_type][date]['room_count']\r\n",
        "  except Exception as e:\r\n",
        "    print(mode, 'mode')\r\n",
        "    print(e,mode)\r\n",
        "    return 0"
      ],
      "execution_count": 8,
      "outputs": []
    },
    {
      "cell_type": "markdown",
      "metadata": {
        "id": "__HblKkWkZkB"
      },
      "source": [
        "Feature enginering  \r\n"
      ]
    },
    {
      "cell_type": "code",
      "metadata": {
        "id": "S6aDlj6JcTvC"
      },
      "source": [
        "def feature_eng(df,mode=''):\r\n",
        "  df['ADR']=df.apply(lambda x:get_adr(x['Expected_checkin'],x['Hotel_Type'],mode=mode),axis=1)\r\n",
        "  df['rooms_occupied']=df.apply(lambda x:get_room_count(x['Expected_checkin'],x['Hotel_Type'],mode=mode),axis=1)\r\n",
        "  df['Expected_duration']=df.apply(lambda x:get_days(x['Expected_checkin'],x['Expected_checkout']),axis=1)\r\n",
        "  df['Expected_weekdays']=df.apply(lambda x:workdays(x['Expected_checkin'],x['Expected_checkout']),axis=1)\r\n",
        "  df['Expected_weekends']=df.apply(lambda x:weekend_days(x['Expected_checkin'],x['Expected_checkout']),axis=1)\r\n",
        "  df['LeadTime']=df.apply(lambda x:get_days(x['Booking_date'],x['Expected_checkin']),axis=1)\r\n",
        "  df['total_ppl']=df.apply(lambda x:(x['Adults']+ x['Children']+x['Babies']),axis=1)\r\n",
        "  df['Adult_to_children']=df.apply(lambda x:(x['Adults']/( x['Children']+x['Babies'])),axis=1)\r\n",
        "  # df['No_of_date_between_booking_date_expected_checkout']=df.apply(lambda x:get_days(x['Booking_date'],x['Expected_checkout']),axis=1)\r\n",
        "  # df['Expected_checkin_month']=df.apply(lambda x:get_month(x['Expected_checkin']),axis=1)\r\n",
        "  # df['Expected_checkout_month']=df.apply(lambda x:get_month(x['Expected_checkout']),axis=1)\r\n",
        "  # df['Booking_date_month']=df.apply(lambda x:get_month(x['Booking_date']),axis=1)\r\n",
        "  df['Expected_checkin_year']=df.apply(lambda x:get_year(x['Expected_checkin']),axis=1)\r\n",
        "  # df['Expected_checkout_year']=df.apply(lambda x:get_year(x['Expected_checkout']),axis=1)\r\n",
        "  df['Booking_date_year']=df.apply(lambda x:get_year(x['Booking_date']),axis=1)\r\n",
        "  df['Expected_checkin_date']=df.apply(lambda x:get_day(x['Expected_checkin']),axis=1)\r\n",
        "  # df['Expected_checkout_date']=df.apply(lambda x:get_day(x['Expected_checkout']),axis=1)\r\n",
        "  df['Booking_date_date']=df.apply(lambda x:get_day(x['Booking_date']),axis=1)\r\n",
        "  df['Expected_checkin_week']=df.apply(lambda x:get_week_of_year(x['Expected_checkin']),axis=1)\r\n",
        "  # df['Expected_checkout_week']=df.apply(lambda x:get_week_of_year(x['Expected_checkout']),axis=1)\r\n",
        "  df['Booking_date_week']=df.apply(lambda x:get_week_of_year(x['Booking_date']),axis=1)\r\n",
        "  df=df.drop(['Expected_checkin', 'Expected_checkout','Booking_date'], axis = 1) \r\n",
        "  return df"
      ],
      "execution_count": 29,
      "outputs": []
    },
    {
      "cell_type": "markdown",
      "metadata": {
        "id": "7UB-2M0pMKOE"
      },
      "source": [
        "change columns data types"
      ]
    },
    {
      "cell_type": "code",
      "metadata": {
        "id": "zuyVsyfqL3WY"
      },
      "source": [
        "gender_mapping = {\"F\":1, \"M\":2}\r\n",
        "education_level_mapping = {\"Mid-School\":1, \"High-School\":2,\"College\":3,\"Grad\":4}\r\n",
        "income_mapping={\"<25K\":1,\"25K --50K\":2,\"50K -- 100K\":3,\">100K\":4}\r\n",
        "meal_mapping={\"BB\":1,\"HB\":2,\"FB\":3}\r\n",
        "deposite_mapping={\"No Deposit\":1,\"Refundable\":2,\"Non-Refundable\":3}\r\n",
        "reservation_mapping={\"Check-In\":1,\"Canceled\":2,\"No-Show\":3}\r\n",
        "boolean_mapping={\"Yes\":1,\"No\":0}\r\n",
        "def mapping(df,mode=\"\"):\r\n",
        "  df[\"Gender_Enc\"] = df[\"Gender\"].replace(gender_mapping)\r\n",
        "  df[\"Educational_Level_Enc\"] = df[\"Educational_Level\"].replace(education_level_mapping)\r\n",
        "  df[\"Income_Enc\"] = df[\"Income\"].replace(income_mapping)\r\n",
        "  df[\"Meal_Type_Enc\"] = df[\"Meal_Type\"].replace(meal_mapping)\r\n",
        "  df[\"Deposit_type_EnC\"] = df[\"Deposit_type\"].replace(deposite_mapping)\r\n",
        "  if(mode !='test'):\r\n",
        "    df[\"Reservation_Status_Enc\"] = df[\"Reservation_Status\"].replace(reservation_mapping)\r\n",
        "  df[\"Visted_Previously_Enc\"] = df[\"Visted_Previously\"].replace(boolean_mapping)\r\n",
        "  df[\"Required_Car_Parking_Enc\"] = df[\"Required_Car_Parking\"].replace(boolean_mapping)\r\n",
        "  df[\"Previous_Cancellations_Enc\"] = df[\"Previous_Cancellations\"].replace(boolean_mapping)\r\n",
        "  df[\"Use_Promotion_Enc\"] = df[\"Use_Promotion\"].replace(boolean_mapping)\r\n",
        "  col=['Gender', 'Educational_Level','Income','Meal_Type','Deposit_type','Reservation_Status','Visted_Previously','Required_Car_Parking','Previous_Cancellations','Use_Promotion','Reservation-id']\r\n",
        "  if(mode=='test'):\r\n",
        "    col.remove('Reservation_Status')\r\n",
        "  df=df.drop(col, axis = 1) \r\n",
        "  return df\r\n"
      ],
      "execution_count": 30,
      "outputs": []
    },
    {
      "cell_type": "markdown",
      "metadata": {
        "id": "R0jtQYThMYNk"
      },
      "source": [
        "use oneHotEncoder"
      ]
    },
    {
      "cell_type": "code",
      "metadata": {
        "id": "Pa1LUCZeMeyF"
      },
      "source": [
        "def oneHotEncoder(df):\r\n",
        "  return pd.get_dummies(data=df, columns=['Ethnicity','Country_region', 'Hotel_Type','Booking_channel'])"
      ],
      "execution_count": 11,
      "outputs": []
    },
    {
      "cell_type": "markdown",
      "metadata": {
        "id": "xcORcDa-klE6"
      },
      "source": [
        "Preprocessor"
      ]
    },
    {
      "cell_type": "code",
      "metadata": {
        "id": "hVUHVr53ko3K"
      },
      "source": [
        "from sklearn.preprocessing import LabelEncoder\r\n",
        "def preprocessor(df,mode=\"\"):\r\n",
        "  df=feature_eng(df,mode=mode)\r\n",
        "  df= mapping(df,mode=mode)\r\n",
        "  df=oneHotEncoder(df)\r\n",
        "  cols_to_norm=['Expected_duration','Expected_weekdays','Expected_weekends','LeadTime','Expected_checkin_year','Booking_date_year','Expected_checkin_date'\r\n",
        "  ,'Booking_date_date','Expected_checkin_week','Booking_date_week','Room_Rate','Discount_Rate','Age','rooms_occupied','ADR','total_ppl','Adult_to_children']\r\n",
        "  cols_to_log=['Adults','Children']\r\n",
        "  df[cols_to_log]=np.log(df[cols_to_log])\r\n",
        "  if(mode==\"test\"):\r\n",
        "    scaler= MinMaxScaler()\r\n",
        "    df[cols_to_norm]= scaler.fit_transform(df[cols_to_norm])\r\n",
        "    return df\r\n",
        "  \r\n",
        "  scaler= MinMaxScaler()\r\n",
        "  df[cols_to_norm]= scaler.fit_transform(df[cols_to_norm])\r\n",
        "  X= df.drop('Reservation_Status_Enc',axis=1)\r\n",
        "  y=df['Reservation_Status_Enc']\r\n",
        "  return (X,y,df)"
      ],
      "execution_count": 35,
      "outputs": []
    },
    {
      "cell_type": "code",
      "metadata": {
        "id": "1-fud9u2KCRb"
      },
      "source": [
        "def balance(X,y,df):\r\n",
        "  category_col=['Country_region_East','Country_region_West','Country_region_South','Country_region_North','Deposit_type_EnC','Booking_channel_Agent','Booking_channel_Direct','Booking_channel_Online','Meal_Type_Enc',\r\n",
        "                'Deposit_type_EnC','Educational_Level_Enc','Income_Enc','Hotel_Type_Airport Hotels','Hotel_Type_City Hotel','Hotel_Type_Resort']\r\n",
        "  cat_col= [X.columns.get_loc(c) for c in category_col if c in X]\r\n",
        "\r\n",
        "  smote_nc = SMOTENC(categorical_features=cat_col, random_state=0)   \r\n",
        "  X_resampled, y_resampled = smote_nc.fit_resample(X, y)\r\n",
        "  return (X_resampled,y_resampled,df)"
      ],
      "execution_count": 13,
      "outputs": []
    },
    {
      "cell_type": "markdown",
      "metadata": {
        "id": "jXdxIAnH8Ow2"
      },
      "source": [
        "Visulaization"
      ]
    },
    {
      "cell_type": "code",
      "metadata": {
        "id": "TTJ5upkv8eJM"
      },
      "source": [
        "train_X, train_y,train_df=preprocessor(train)"
      ],
      "execution_count": 16,
      "outputs": []
    },
    {
      "cell_type": "code",
      "metadata": {
        "colab": {
          "base_uri": "https://localhost:8080/",
          "height": 995
        },
        "id": "MaqPrMqmvZMo",
        "outputId": "d7e99e9a-9c71-4b81-87d4-1ebf2bacb949"
      },
      "source": [
        "import seaborn as sns \r\n",
        "import matplotlib.pyplot as plt \r\n",
        "plt.figure(figsize=(20,15))\r\n",
        "ax = sns.heatmap(train_df.corr())"
      ],
      "execution_count": 39,
      "outputs": [
        {
          "output_type": "display_data",
          "data": {
            "image/png": "[encoded data removed]",
            "text/plain": [
              "<Figure size 1440x1080 with 2 Axes>"
            ]
          },
          "metadata": {
            "tags": [],
            "needs_background": "light"
          }
        }
      ]
    },
    {
      "cell_type": "markdown",
      "metadata": {
        "id": "OGNCpjGulit0"
      },
      "source": [
        "Model evaluation"
      ]
    },
    {
      "cell_type": "code",
      "metadata": {
        "colab": {
          "base_uri": "https://localhost:8080/"
        },
        "id": "71mhpya0Kwbf",
        "outputId": "944c7f97-b098-4bab-9039-08536e227fb3"
      },
      "source": [
        "train_X, train_y,train_df= preprocessor(train)\r\n",
        "validation_X,validation_y,validation_df= preprocessor(validation,mode='val')\r\n",
        "pca = decomposition.PCA(n_components=19)\r\n",
        "pca.fit(train_X)\r\n",
        "pca_train_X = pca.transform(train_X)\r\n",
        "cv = StratifiedKFold(n_splits=5, random_state=1, shuffle=True)\r\n",
        "base_models = [(\"DT_model\", DecisionTreeClassifier( criterion='gini', splitter='random')),\r\n",
        "               (\"RF_model\", RandomForestClassifier(random_state=42,n_jobs=-1,n_estimators=400)),\r\n",
        "               (\"XT_model\",ExtraTreesClassifier()),\r\n",
        "               (\"LR_model\", LogisticRegression(random_state=42,n_jobs=-1,max_iter=250)),\r\n",
        "               (\"XGB_model\", XGBClassifier(random_state=42, n_jobs=-1)),\r\n",
        "               (\"MLP_model\",MLPClassifier(random_state=42)),\r\n",
        "               (\"Knn_model\",KNeighborsClassifier(n_neighbors=7)),\r\n",
        "               (\"LightGBM\",LGBMClassifier()),\r\n",
        "               (\"CatBoost\",CatBoostClassifier(n_estimators=400)),\r\n",
        "               (\"NB_model\",GaussianNB()),\r\n",
        "               (\"LDA_model\",LinearDiscriminantAnalysis())]\r\n",
        "\r\n",
        "for name, model in (base_models):\r\n",
        "  scores = cross_val_score(model, pca_train_X, train_y, scoring='f1_macro', cv=cv, n_jobs=-1)\r\n",
        "  print(f\"{name} F1 Score: {round(np.mean(scores),4), round(np.std(scores),4)}\")"
      ],
      "execution_count": 44,
      "outputs": [
        {
          "output_type": "stream",
          "text": [
            "DT_model F1 Score: (0.3472, 0.0066)\n",
            "RF_model F1 Score: (0.292, 0.0011)\n",
            "XT_model F1 Score: (0.2981, 0.0026)\n",
            "LR_model F1 Score: (0.2905, 0.0)\n",
            "XGB_model F1 Score: (0.2907, 0.0003)\n",
            "MLP_model F1 Score: (0.3082, 0.0051)\n",
            "Knn_model F1 Score: (0.3094, 0.0032)\n",
            "LightGBM F1 Score: (0.2915, 0.0015)\n"
          ],
          "name": "stdout"
        },
        {
          "output_type": "stream",
          "text": [
            "/usr/local/lib/python3.7/dist-packages/joblib/externals/loky/process_executor.py:691: UserWarning: A worker stopped while some jobs were given to the executor. This can be caused by a too short worker timeout or by a memory leak.\n",
            "  \"timeout or by a memory leak.\", UserWarning\n"
          ],
          "name": "stderr"
        },
        {
          "output_type": "stream",
          "text": [
            "CatBoost F1 Score: (0.3004, 0.0017)\n",
            "NB_model F1 Score: (0.2905, 0.0)\n",
            "LDA_model F1 Score: (0.2905, 0.0)\n"
          ],
          "name": "stdout"
        }
      ]
    },
    {
      "cell_type": "code",
      "metadata": {
        "colab": {
          "base_uri": "https://localhost:8080/"
        },
        "id": "aQb_JQQmVpuL",
        "outputId": "0cbfce83-168b-4f2b-b932-3232b5c5ab87"
      },
      "source": [
        "from sklearn.metrics import f1_score, classification_report, plot_confusion_matrix,confusion_matrix,homogeneity_completeness_v_measure,accuracy_score,adjusted_rand_score\r\n",
        "from sklearn import decomposition\r\n",
        "train_X, train_y,train_df= preprocessor(train)\r\n",
        "# train_X, train_y,train_df= balance(train_X, train_y,train_df)\r\n",
        "validation_X,validation_y,validation_df= preprocessor(validation,mode='val')\r\n",
        "pca = decomposition.PCA(n_components=19)\r\n",
        "pca.fit(train_X)\r\n",
        "pca_train_X = pca.transform(train_X)\r\n",
        "pca_validation_X = pca.transform(validation_X)\r\n",
        "model=DecisionTreeClassifier( criterion='gini',\r\n",
        "                   splitter='random')\r\n",
        "model.fit(pca_train_X,train_y)\r\n",
        "pred=model.predict(pca_validation_X)\r\n",
        "acc= accuracy_score(validation_y,pred)\r\n",
        "fscore=f1_score(validation_y,pred,average=\"macro\")\r\n",
        "print(acc,fscore)\r\n",
        "print(classification_report(validation_y,pred))"
      ],
      "execution_count": 46,
      "outputs": [
        {
          "output_type": "stream",
          "text": [
            "0.4990905783921426 0.35295971075055754\n",
            "              precision    recall  f1-score   support\n",
            "\n",
            "           1       0.60      0.72      0.66      1610\n",
            "           2       0.29      0.23      0.25       741\n",
            "           3       0.19      0.12      0.15       398\n",
            "\n",
            "    accuracy                           0.50      2749\n",
            "   macro avg       0.36      0.36      0.35      2749\n",
            "weighted avg       0.46      0.50      0.47      2749\n",
            "\n"
          ],
          "name": "stdout"
        }
      ]
    },
    {
      "cell_type": "code",
      "metadata": {
        "id": "uvC6ghTyAngq"
      },
      "source": [
        "test_X = preprocessor(test,mode='test')\r\n",
        "pca_test_X = pca.transform(test_X)\r\n",
        "y_pred = model.predict(pca_test_X)\r\n",
        "submission = pd.DataFrame({'Reservation-id':test['Reservation-id'],'Reservation_status':y_pred})\r\n",
        "submission.head(5)\r\n",
        "submission.to_csv('./submission-5.csv',index=False)"
      ],
      "execution_count": 47,
      "outputs": []
    },
    {
      "cell_type": "code",
      "metadata": {
        "id": "4ltIm-1wZc1n"
      },
      "source": [
        ""
      ],
      "execution_count": null,
      "outputs": []
    }
  ]
}