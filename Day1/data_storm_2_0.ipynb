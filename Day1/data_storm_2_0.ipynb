{
  "nbformat": 4,
  "nbformat_minor": 0,
  "metadata": {
    "colab": {
      "name": "data storm 2.0.ipynb",
      "provenance": [],
      "collapsed_sections": []
    },
    "kernelspec": {
      "name": "python3",
      "display_name": "Python 3"
    }
  },
  "cells": [
    {
      "cell_type": "markdown",
      "metadata": {
        "id": "vslfJCaDX83f"
      },
      "source": [
        "# This is  draft version 1 of the notebook used for the data storm 2.0"
      ]
    },
    {
      "cell_type": "code",
      "metadata": {
        "colab": {
          "base_uri": "https://localhost:8080/"
        },
        "id": "ppUQ0l3yuKQe",
        "outputId": "067332d1-5b20-4fb5-a418-d141591ead3a"
      },
      "source": [
        "!pip install catboost"
      ],
      "execution_count": 3,
      "outputs": [
        {
          "output_type": "stream",
          "text": [
            "Collecting catboost\n",
            "\u001b[?25l  Downloading https://files.pythonhosted.org/packages/96/3b/bb419654adcf7efff42ed8a3f84e50c8f236424b7ed1cc8ccd290852e003/catboost-0.24.4-cp37-none-manylinux1_x86_64.whl (65.7MB)\n",
            "\u001b[K     |████████████████████████████████| 65.7MB 68kB/s \n",
            "\u001b[?25hRequirement already satisfied: scipy in /usr/local/lib/python3.7/dist-packages (from catboost) (1.4.1)\n",
            "Requirement already satisfied: numpy>=1.16.0 in /usr/local/lib/python3.7/dist-packages (from catboost) (1.19.5)\n",
            "Requirement already satisfied: six in /usr/local/lib/python3.7/dist-packages (from catboost) (1.15.0)\n",
            "Requirement already satisfied: matplotlib in /usr/local/lib/python3.7/dist-packages (from catboost) (3.2.2)\n",
            "Requirement already satisfied: graphviz in /usr/local/lib/python3.7/dist-packages (from catboost) (0.10.1)\n",
            "Requirement already satisfied: plotly in /usr/local/lib/python3.7/dist-packages (from catboost) (4.4.1)\n",
            "Requirement already satisfied: pandas>=0.24.0 in /usr/local/lib/python3.7/dist-packages (from catboost) (1.1.5)\n",
            "Requirement already satisfied: pyparsing!=2.0.4,!=2.1.2,!=2.1.6,>=2.0.1 in /usr/local/lib/python3.7/dist-packages (from matplotlib->catboost) (2.4.7)\n",
            "Requirement already satisfied: kiwisolver>=1.0.1 in /usr/local/lib/python3.7/dist-packages (from matplotlib->catboost) (1.3.1)\n",
            "Requirement already satisfied: python-dateutil>=2.1 in /usr/local/lib/python3.7/dist-packages (from matplotlib->catboost) (2.8.1)\n",
            "Requirement already satisfied: cycler>=0.10 in /usr/local/lib/python3.7/dist-packages (from matplotlib->catboost) (0.10.0)\n",
            "Requirement already satisfied: retrying>=1.3.3 in /usr/local/lib/python3.7/dist-packages (from plotly->catboost) (1.3.3)\n",
            "Requirement already satisfied: pytz>=2017.2 in /usr/local/lib/python3.7/dist-packages (from pandas>=0.24.0->catboost) (2018.9)\n",
            "Installing collected packages: catboost\n",
            "Successfully installed catboost-0.24.4\n"
          ],
          "name": "stdout"
        }
      ]
    },
    {
      "cell_type": "markdown",
      "metadata": {
        "id": "oN7DjoLvYLkl"
      },
      "source": [
        "Import the required modules \r\n",
        "\r\n"
      ]
    },
    {
      "cell_type": "code",
      "metadata": {
        "id": "P_OiKyzcXNnp"
      },
      "source": [
        "import pandas as pd\r\n",
        "import numpy as np\r\n",
        "from google.colab import drive\r\n",
        "from sklearn.tree import DecisionTreeClassifier\r\n",
        "from sklearn.ensemble import RandomForestClassifier,ExtraTreesClassifier\r\n",
        "from sklearn.linear_model import LogisticRegression\r\n",
        "from sklearn.naive_bayes import GaussianNB\r\n",
        "from sklearn.discriminant_analysis import LinearDiscriminantAnalysis\r\n",
        "from xgboost.sklearn import XGBClassifier\r\n",
        "from sklearn.neural_network import MLPClassifier\r\n",
        "from sklearn.neighbors import KNeighborsClassifier\r\n",
        "from lightgbm import LGBMClassifier\r\n",
        "from catboost import CatBoostClassifier\r\n",
        "from sklearn.model_selection import KFold,StratifiedKFold\r\n",
        "from sklearn.preprocessing import OneHotEncoder,MinMaxScaler\r\n",
        "from sklearn.model_selection import cross_val_score\r\n",
        "from tqdm import tqdm\r\n",
        "from datetime import datetime,timedelta"
      ],
      "execution_count": 4,
      "outputs": []
    },
    {
      "cell_type": "markdown",
      "metadata": {
        "id": "pI1lh0Zcawoq"
      },
      "source": [
        "Read csv to pandas dataframe"
      ]
    },
    {
      "cell_type": "code",
      "metadata": {
        "colab": {
          "base_uri": "https://localhost:8080/"
        },
        "id": "wyiS6CBbYHDU",
        "outputId": "703b4dda-b3be-40a9-a425-225deafc9695"
      },
      "source": [
        "drive.mount('/content/gdrive')\r\n",
        "train= pd.read_csv('/content/gdrive/MyDrive/Data storm 2.0/Data/Hotel-A-train.csv')\r\n",
        "validation = pd.read_csv('/content/gdrive/MyDrive/Data storm 2.0/Data/Hotel-A-validation.csv')\r\n",
        "test= pd.read_csv('/content/gdrive/MyDrive/Data storm 2.0/Data/Hotel-A-test.csv')"
      ],
      "execution_count": 5,
      "outputs": [
        {
          "output_type": "stream",
          "text": [
            "Mounted at /content/gdrive\n"
          ],
          "name": "stdout"
        }
      ]
    },
    {
      "cell_type": "code",
      "metadata": {
        "id": "nC8GOfOoZsMh",
        "colab": {
          "base_uri": "https://localhost:8080/"
        },
        "outputId": "1daff27c-46d4-484d-accc-921b07b7fb43"
      },
      "source": [
        "train.shape"
      ],
      "execution_count": null,
      "outputs": [
        {
          "output_type": "execute_result",
          "data": {
            "text/plain": [
              "(27499, 24)"
            ]
          },
          "metadata": {
            "tags": []
          },
          "execution_count": 3
        }
      ]
    },
    {
      "cell_type": "code",
      "metadata": {
        "id": "GJhgt31qZ_Cv",
        "colab": {
          "base_uri": "https://localhost:8080/",
          "height": 282
        },
        "outputId": "f6bf3028-63fe-4abf-fc10-a1047abff83a"
      },
      "source": [
        "train.head()"
      ],
      "execution_count": null,
      "outputs": [
        {
          "output_type": "execute_result",
          "data": {
            "text/html": [
              "<div>\n",
              "<style scoped>\n",
              "    .dataframe tbody tr th:only-of-type {\n",
              "        vertical-align: middle;\n",
              "    }\n",
              "\n",
              "    .dataframe tbody tr th {\n",
              "        vertical-align: top;\n",
              "    }\n",
              "\n",
              "    .dataframe thead th {\n",
              "        text-align: right;\n",
              "    }\n",
              "</style>\n",
              "<table border=\"1\" class=\"dataframe\">\n",
              "  <thead>\n",
              "    <tr style=\"text-align: right;\">\n",
              "      <th></th>\n",
              "      <th>Reservation-id</th>\n",
              "      <th>Gender</th>\n",
              "      <th>Age</th>\n",
              "      <th>Ethnicity</th>\n",
              "      <th>Educational_Level</th>\n",
              "      <th>Income</th>\n",
              "      <th>Country_region</th>\n",
              "      <th>Hotel_Type</th>\n",
              "      <th>Expected_checkin</th>\n",
              "      <th>Expected_checkout</th>\n",
              "      <th>Booking_date</th>\n",
              "      <th>Adults</th>\n",
              "      <th>Children</th>\n",
              "      <th>Babies</th>\n",
              "      <th>Meal_Type</th>\n",
              "      <th>Visted_Previously</th>\n",
              "      <th>Previous_Cancellations</th>\n",
              "      <th>Deposit_type</th>\n",
              "      <th>Booking_channel</th>\n",
              "      <th>Required_Car_Parking</th>\n",
              "      <th>Reservation_Status</th>\n",
              "      <th>Use_Promotion</th>\n",
              "      <th>Discount_Rate</th>\n",
              "      <th>Room_Rate</th>\n",
              "    </tr>\n",
              "  </thead>\n",
              "  <tbody>\n",
              "    <tr>\n",
              "      <th>0</th>\n",
              "      <td>39428300</td>\n",
              "      <td>F</td>\n",
              "      <td>40</td>\n",
              "      <td>Latino</td>\n",
              "      <td>Grad</td>\n",
              "      <td>&lt;25K</td>\n",
              "      <td>North</td>\n",
              "      <td>City Hotel</td>\n",
              "      <td>7/1/2015</td>\n",
              "      <td>7/2/2015</td>\n",
              "      <td>5/21/2015</td>\n",
              "      <td>2</td>\n",
              "      <td>2</td>\n",
              "      <td>0</td>\n",
              "      <td>BB</td>\n",
              "      <td>No</td>\n",
              "      <td>No</td>\n",
              "      <td>No Deposit</td>\n",
              "      <td>Online</td>\n",
              "      <td>Yes</td>\n",
              "      <td>Check-In</td>\n",
              "      <td>Yes</td>\n",
              "      <td>10</td>\n",
              "      <td>218</td>\n",
              "    </tr>\n",
              "    <tr>\n",
              "      <th>1</th>\n",
              "      <td>77491756</td>\n",
              "      <td>F</td>\n",
              "      <td>49</td>\n",
              "      <td>Latino</td>\n",
              "      <td>Mid-School</td>\n",
              "      <td>50K -- 100K</td>\n",
              "      <td>East</td>\n",
              "      <td>City Hotel</td>\n",
              "      <td>7/1/2015</td>\n",
              "      <td>7/2/2015</td>\n",
              "      <td>5/26/2015</td>\n",
              "      <td>3</td>\n",
              "      <td>3</td>\n",
              "      <td>0</td>\n",
              "      <td>BB</td>\n",
              "      <td>No</td>\n",
              "      <td>No</td>\n",
              "      <td>Refundable</td>\n",
              "      <td>Online</td>\n",
              "      <td>Yes</td>\n",
              "      <td>Check-In</td>\n",
              "      <td>No</td>\n",
              "      <td>0</td>\n",
              "      <td>185</td>\n",
              "    </tr>\n",
              "    <tr>\n",
              "      <th>2</th>\n",
              "      <td>73747291</td>\n",
              "      <td>F</td>\n",
              "      <td>42</td>\n",
              "      <td>caucasian</td>\n",
              "      <td>Grad</td>\n",
              "      <td>&lt;25K</td>\n",
              "      <td>East</td>\n",
              "      <td>City Hotel</td>\n",
              "      <td>7/2/2015</td>\n",
              "      <td>7/6/2015</td>\n",
              "      <td>6/29/2015</td>\n",
              "      <td>3</td>\n",
              "      <td>3</td>\n",
              "      <td>0</td>\n",
              "      <td>BB</td>\n",
              "      <td>No</td>\n",
              "      <td>No</td>\n",
              "      <td>No Deposit</td>\n",
              "      <td>Online</td>\n",
              "      <td>Yes</td>\n",
              "      <td>Check-In</td>\n",
              "      <td>No</td>\n",
              "      <td>0</td>\n",
              "      <td>119</td>\n",
              "    </tr>\n",
              "    <tr>\n",
              "      <th>3</th>\n",
              "      <td>67301739</td>\n",
              "      <td>M</td>\n",
              "      <td>25</td>\n",
              "      <td>African American</td>\n",
              "      <td>College</td>\n",
              "      <td>&gt;100K</td>\n",
              "      <td>South</td>\n",
              "      <td>Airport Hotels</td>\n",
              "      <td>7/2/2015</td>\n",
              "      <td>7/3/2015</td>\n",
              "      <td>6/20/2015</td>\n",
              "      <td>4</td>\n",
              "      <td>3</td>\n",
              "      <td>0</td>\n",
              "      <td>BB</td>\n",
              "      <td>No</td>\n",
              "      <td>No</td>\n",
              "      <td>Refundable</td>\n",
              "      <td>Agent</td>\n",
              "      <td>Yes</td>\n",
              "      <td>Check-In</td>\n",
              "      <td>Yes</td>\n",
              "      <td>5</td>\n",
              "      <td>144</td>\n",
              "    </tr>\n",
              "    <tr>\n",
              "      <th>4</th>\n",
              "      <td>77222321</td>\n",
              "      <td>F</td>\n",
              "      <td>62</td>\n",
              "      <td>Latino</td>\n",
              "      <td>High-School</td>\n",
              "      <td>25K --50K</td>\n",
              "      <td>East</td>\n",
              "      <td>Resort</td>\n",
              "      <td>7/3/2015</td>\n",
              "      <td>7/4/2015</td>\n",
              "      <td>6/20/2015</td>\n",
              "      <td>1</td>\n",
              "      <td>1</td>\n",
              "      <td>0</td>\n",
              "      <td>BB</td>\n",
              "      <td>No</td>\n",
              "      <td>No</td>\n",
              "      <td>No Deposit</td>\n",
              "      <td>Direct</td>\n",
              "      <td>No</td>\n",
              "      <td>Check-In</td>\n",
              "      <td>Yes</td>\n",
              "      <td>10</td>\n",
              "      <td>242</td>\n",
              "    </tr>\n",
              "  </tbody>\n",
              "</table>\n",
              "</div>"
            ],
            "text/plain": [
              "   Reservation-id Gender  Age  ... Use_Promotion Discount_Rate Room_Rate\n",
              "0        39428300      F   40  ...           Yes            10       218\n",
              "1        77491756      F   49  ...            No             0       185\n",
              "2        73747291      F   42  ...            No             0       119\n",
              "3        67301739      M   25  ...           Yes             5       144\n",
              "4        77222321      F   62  ...           Yes            10       242\n",
              "\n",
              "[5 rows x 24 columns]"
            ]
          },
          "metadata": {
            "tags": []
          },
          "execution_count": 4
        }
      ]
    },
    {
      "cell_type": "code",
      "metadata": {
        "id": "6HbUlUWTLoNT",
        "colab": {
          "base_uri": "https://localhost:8080/"
        },
        "outputId": "f92967cc-ea75-49cf-dbc7-5564909a37bb"
      },
      "source": [
        "train.isnull().sum()"
      ],
      "execution_count": null,
      "outputs": [
        {
          "output_type": "execute_result",
          "data": {
            "text/plain": [
              "Reservation-id            0\n",
              "Gender                    0\n",
              "Age                       0\n",
              "Ethnicity                 0\n",
              "Educational_Level         0\n",
              "Income                    0\n",
              "Country_region            0\n",
              "Hotel_Type                0\n",
              "Expected_checkin          0\n",
              "Expected_checkout         0\n",
              "Booking_date              0\n",
              "Adults                    0\n",
              "Children                  0\n",
              "Babies                    0\n",
              "Meal_Type                 0\n",
              "Visted_Previously         0\n",
              "Previous_Cancellations    0\n",
              "Deposit_type              0\n",
              "Booking_channel           0\n",
              "Required_Car_Parking      0\n",
              "Reservation_Status        0\n",
              "Use_Promotion             0\n",
              "Discount_Rate             0\n",
              "Room_Rate                 0\n",
              "dtype: int64"
            ]
          },
          "metadata": {
            "tags": []
          },
          "execution_count": 5
        }
      ]
    },
    {
      "cell_type": "code",
      "metadata": {
        "id": "apVcNjSNLsl9",
        "colab": {
          "base_uri": "https://localhost:8080/"
        },
        "outputId": "d194771b-45fd-4775-daa1-80241709d3fc"
      },
      "source": [
        "train.dtypes"
      ],
      "execution_count": null,
      "outputs": [
        {
          "output_type": "execute_result",
          "data": {
            "text/plain": [
              "Reservation-id             int64\n",
              "Gender                    object\n",
              "Age                        int64\n",
              "Ethnicity                 object\n",
              "Educational_Level         object\n",
              "Income                    object\n",
              "Country_region            object\n",
              "Hotel_Type                object\n",
              "Expected_checkin          object\n",
              "Expected_checkout         object\n",
              "Booking_date              object\n",
              "Adults                     int64\n",
              "Children                   int64\n",
              "Babies                     int64\n",
              "Meal_Type                 object\n",
              "Visted_Previously         object\n",
              "Previous_Cancellations    object\n",
              "Deposit_type              object\n",
              "Booking_channel           object\n",
              "Required_Car_Parking      object\n",
              "Reservation_Status        object\n",
              "Use_Promotion             object\n",
              "Discount_Rate              int64\n",
              "Room_Rate                  int64\n",
              "dtype: object"
            ]
          },
          "metadata": {
            "tags": []
          },
          "execution_count": 6
        }
      ]
    },
    {
      "cell_type": "code",
      "metadata": {
        "id": "8UyOG7EdPP-A"
      },
      "source": [
        "train['Reservation_Status'].value_counts()"
      ],
      "execution_count": null,
      "outputs": []
    },
    {
      "cell_type": "markdown",
      "metadata": {
        "id": "cWRhHc0maJJ5"
      },
      "source": [
        "# Functions"
      ]
    },
    {
      "cell_type": "code",
      "metadata": {
        "id": "0Ht0A1ioaAN-"
      },
      "source": [
        "def get_month(date):\r\n",
        "  return int(date.split('/')[0])"
      ],
      "execution_count": 6,
      "outputs": []
    },
    {
      "cell_type": "code",
      "metadata": {
        "id": "wopOyQy0HeAf"
      },
      "source": [
        "def get_day(date):\n",
        "  return int(date.split('/')[1])"
      ],
      "execution_count": 7,
      "outputs": []
    },
    {
      "cell_type": "code",
      "metadata": {
        "id": "9tYYL0J1okxR"
      },
      "source": [
        "def get_year(date):\r\n",
        "  return int(date.split('/')[2])"
      ],
      "execution_count": 8,
      "outputs": []
    },
    {
      "cell_type": "code",
      "metadata": {
        "id": "hqLEAW5oIfhK"
      },
      "source": [
        "def get_week_of_year(date):\n",
        "  return datetime.strptime(date, \"%m/%d/%Y\").isocalendar()[1]"
      ],
      "execution_count": 9,
      "outputs": []
    },
    {
      "cell_type": "code",
      "metadata": {
        "id": "IHaWCS3SafLG"
      },
      "source": [
        "def get_days(start,end):\r\n",
        "  return (datetime.strptime(end, \"%m/%d/%Y\").date() -datetime.strptime(start, \"%m/%d/%Y\").date()).days"
      ],
      "execution_count": 10,
      "outputs": []
    },
    {
      "cell_type": "code",
      "metadata": {
        "id": "sOdRfH3FB18S"
      },
      "source": [
        "def get_day_of_year(date_string):\n",
        "  return (datetime.strptime(date_string, '%m/%d/%Y')).timetuple().tm_yday"
      ],
      "execution_count": 11,
      "outputs": []
    },
    {
      "cell_type": "code",
      "metadata": {
        "id": "dxUZQ1wUJWah"
      },
      "source": [
        "# returns [Friday, Saturday, etc.]\n",
        "def get_day_of_week(date_string):\n",
        "  return datetime.strptime(date_string, '%m/%d/%Y').strftime('%A')"
      ],
      "execution_count": 12,
      "outputs": []
    },
    {
      "cell_type": "code",
      "metadata": {
        "id": "xc4boiRsx1Up"
      },
      "source": [
        "def workdays(start, end, excluded=(6, 7)):\r\n",
        "  start= datetime.strptime(start, \"%m/%d/%Y\")\r\n",
        "  end= datetime.strptime(end, \"%m/%d/%Y\")\r\n",
        "  days = []\r\n",
        "  while start.date() <= end.date():\r\n",
        "      if start.isoweekday() not in excluded:\r\n",
        "          days.append(start)\r\n",
        "      start += timedelta(days=1)\r\n",
        "  return len(days)"
      ],
      "execution_count": 13,
      "outputs": []
    },
    {
      "cell_type": "code",
      "metadata": {
        "id": "UT2Tzacly7iF"
      },
      "source": [
        "def weekend_days(start, end, included=(6, 7)):\r\n",
        "  start= datetime.strptime(start, \"%m/%d/%Y\")\r\n",
        "  end= datetime.strptime(end, \"%m/%d/%Y\")\r\n",
        "  days = []\r\n",
        "  while start.date() <= end.date():\r\n",
        "      if start.isoweekday()  in included:\r\n",
        "          days.append(start)\r\n",
        "      start += timedelta(days=1)\r\n",
        "  return len(days)"
      ],
      "execution_count": 14,
      "outputs": []
    },
    {
      "cell_type": "markdown",
      "metadata": {
        "id": "__HblKkWkZkB"
      },
      "source": [
        "Feature enginering  \r\n"
      ]
    },
    {
      "cell_type": "code",
      "metadata": {
        "id": "S6aDlj6JcTvC"
      },
      "source": [
        "def feature_eng(df):\r\n",
        "  adr_mapping=df.groupby([df[\"Expected_checkin\"], \"Hotel_Type\"])[\"Room_Rate\"].mean()\r\n",
        "  df['Expected_duration']=df.apply(lambda x:get_days(x['Expected_checkin'],x['Expected_checkout']),axis=1)\r\n",
        "  df['Expected_weekdays']=df.apply(lambda x:workdays(x['Expected_checkin'],x['Expected_checkout']),axis=1)\r\n",
        "  df['Expected_weekends']=df.apply(lambda x:weekend_days(x['Expected_checkin'],x['Expected_checkout']),axis=1)\r\n",
        "  df['No_of_date_between_booking_date_expected_checkin']=df.apply(lambda x:get_days(x['Booking_date'],x['Expected_checkin']),axis=1)\r\n",
        "  df['No_of_date_between_booking_date_expected_checkout']=df.apply(lambda x:get_days(x['Booking_date'],x['Expected_checkout']),axis=1)\r\n",
        "  df['Expected_checkin_month']=df.apply(lambda x:get_month(x['Expected_checkin']),axis=1)\r\n",
        "  df['Expected_checkout_month']=df.apply(lambda x:get_month(x['Expected_checkout']),axis=1)\r\n",
        "  df['Booking_date_month']=df.apply(lambda x:get_month(x['Booking_date']),axis=1)\r\n",
        "  df['Expected_checkin_year']=df.apply(lambda x:get_year(x['Expected_checkin']),axis=1)\r\n",
        "  df['Expected_checkout_year']=df.apply(lambda x:get_year(x['Expected_checkout']),axis=1)\r\n",
        "  df['Booking_date_year']=df.apply(lambda x:get_year(x['Booking_date']),axis=1)\r\n",
        "  df['Expected_checkin_date']=df.apply(lambda x:get_day(x['Expected_checkin']),axis=1)\r\n",
        "  df['Expected_checkout_date']=df.apply(lambda x:get_day(x['Expected_checkout']),axis=1)\r\n",
        "  df['Booking_date_date']=df.apply(lambda x:get_day(x['Booking_date']),axis=1)\r\n",
        "  df['Expected_checkin_week']=df.apply(lambda x:get_week_of_year(x['Expected_checkin']),axis=1)\r\n",
        "  df['Expected_checkout_week']=df.apply(lambda x:get_week_of_year(x['Expected_checkout']),axis=1)\r\n",
        "  df['Booking_date_week']=df.apply(lambda x:get_week_of_year(x['Booking_date']),axis=1)\r\n",
        "  df=df.drop(['Expected_checkin', 'Expected_checkout','Booking_date'], axis = 1) \r\n",
        "  return df"
      ],
      "execution_count": 15,
      "outputs": []
    },
    {
      "cell_type": "markdown",
      "metadata": {
        "id": "7UB-2M0pMKOE"
      },
      "source": [
        "change columns data types"
      ]
    },
    {
      "cell_type": "code",
      "metadata": {
        "id": "zuyVsyfqL3WY"
      },
      "source": [
        "gender_mapping = {\"F\":1, \"M\":2}\r\n",
        "education_level_mapping = {\"Mid-School\":1, \"High-School\":2,\"College\":3,\"Grad\":4}\r\n",
        "income_mapping={\"<25K\":1,\"25K --50K\":2,\"50K -- 100K\":3,\">100K\":4}\r\n",
        "meal_mapping={\"BB\":1,\"HB\":2,\"FB\":3}\r\n",
        "deposite_mapping={\"No Deposit\":1,\"Refundable\":2,\"Non-Refundable\":3}\r\n",
        "reservation_mapping={\"Check-In\":1,\"Canceled\":2,\"No-Show\":3}\r\n",
        "boolean_mapping={\"Yes\":1,\"No\":0}\r\n",
        "def mapping(df,test=False):\r\n",
        "  df[\"Gender_Enc\"] = df[\"Gender\"].replace(gender_mapping)\r\n",
        "  df[\"Educational_Level_Enc\"] = df[\"Educational_Level\"].replace(education_level_mapping)\r\n",
        "  df[\"Income_Enc\"] = df[\"Income\"].replace(income_mapping)\r\n",
        "  df[\"Meal_Type_Enc\"] = df[\"Meal_Type\"].replace(meal_mapping)\r\n",
        "  df[\"Deposit_type_EnC\"] = df[\"Deposit_type\"].replace(deposite_mapping)\r\n",
        "  if(~test):\r\n",
        "    df[\"Reservation_Status_Enc\"] = df[\"Reservation_Status\"].replace(reservation_mapping)\r\n",
        "  df[\"Visted_Previously_Enc\"] = df[\"Visted_Previously\"].replace(boolean_mapping)\r\n",
        "  df[\"Required_Car_Parking_Enc\"] = df[\"Required_Car_Parking\"].replace(boolean_mapping)\r\n",
        "  df[\"Previous_Cancellations_Enc\"] = df[\"Previous_Cancellations\"].replace(boolean_mapping)\r\n",
        "  df[\"Use_Promotion_Enc\"] = df[\"Use_Promotion\"].replace(boolean_mapping)\r\n",
        "  col=['Gender', 'Educational_Level','Income','Meal_Type','Deposit_type','Reservation_Status','Visted_Previously','Required_Car_Parking','Previous_Cancellations','Use_Promotion','Reservation-id']\r\n",
        "  if(test):\r\n",
        "    col.remove('Reservation_Status')\r\n",
        "  df=df.drop(col, axis = 1) \r\n",
        "  return df\r\n"
      ],
      "execution_count": 16,
      "outputs": []
    },
    {
      "cell_type": "markdown",
      "metadata": {
        "id": "R0jtQYThMYNk"
      },
      "source": [
        "use oneHotEncoder"
      ]
    },
    {
      "cell_type": "code",
      "metadata": {
        "id": "Pa1LUCZeMeyF"
      },
      "source": [
        "def oneHotEncoder(df):\r\n",
        "  return pd.get_dummies(data=df, columns=['Ethnicity','Country_region', 'Hotel_Type','Booking_channel'])"
      ],
      "execution_count": 17,
      "outputs": []
    },
    {
      "cell_type": "markdown",
      "metadata": {
        "id": "xcORcDa-klE6"
      },
      "source": [
        "Preprocessor"
      ]
    },
    {
      "cell_type": "code",
      "metadata": {
        "id": "hVUHVr53ko3K"
      },
      "source": [
        "def preprocessor(df,test=False):\r\n",
        "  df=feature_eng(df)\r\n",
        "  df= mapping(df)\r\n",
        "  df=oneHotEncoder(df)\r\n",
        "  cols_to_norm=df.columns.to_list()\r\n",
        "  if(test):\r\n",
        "    scaler= MinMaxScaler()\r\n",
        "    df[cols_to_norm]= scaler.fit_transform(df[cols_to_norm])\r\n",
        "    return df\r\n",
        "  cols_to_norm.remove('Reservation_Status_Enc')\r\n",
        "  scaler= MinMaxScaler()\r\n",
        "  df[cols_to_norm]= scaler.fit_transform(df[cols_to_norm])\r\n",
        "  X= df.drop('Reservation_Status_Enc',axis=1)\r\n",
        "  y=df['Reservation_Status_Enc']\r\n",
        "  return (X,y,df)"
      ],
      "execution_count": 18,
      "outputs": []
    },
    {
      "cell_type": "markdown",
      "metadata": {
        "id": "jXdxIAnH8Ow2"
      },
      "source": [
        "Visulaization"
      ]
    },
    {
      "cell_type": "code",
      "metadata": {
        "id": "TTJ5upkv8eJM"
      },
      "source": [
        "train_X, train_y,train_df= preprocessor(train)"
      ],
      "execution_count": 19,
      "outputs": []
    },
    {
      "cell_type": "code",
      "metadata": {
        "colab": {
          "base_uri": "https://localhost:8080/"
        },
        "id": "18JK-Cx88prN",
        "outputId": "001f65a3-77fb-4911-e321-39977a652b70"
      },
      "source": [
        "train_df.skew()"
      ],
      "execution_count": null,
      "outputs": [
        {
          "output_type": "execute_result",
          "data": {
            "text/plain": [
              "Age                                                  0.003686\n",
              "Adults                                               0.860928\n",
              "Children                                             0.428316\n",
              "Babies                                               1.399147\n",
              "Discount_Rate                                        0.716332\n",
              "Room_Rate                                           -0.000533\n",
              "Expected_duration                                    0.855781\n",
              "No_of_date_between_booking_date_expected_checkin     0.799717\n",
              "No_of_date_between_booking_date_expected_checkout    0.800566\n",
              "Expected_checkin_month                               0.051554\n",
              "Expected_checkout_month                              0.044349\n",
              "Booking_date_month                                  -0.125381\n",
              "Gender_Enc                                           0.007201\n",
              "Educational_Level_Enc                               -0.271930\n",
              "Income_Enc                                           0.180126\n",
              "Meal_Type_Enc                                        0.640583\n",
              "Deposit_type_EnC                                     1.252644\n",
              "Reservation_Status_Enc                               1.825561\n",
              "Visted_Previously_Enc                                0.709113\n",
              "Required_Car_Parking_Enc                            -0.946145\n",
              "Previous_Cancellations_Enc                           2.437706\n",
              "Use_Promotion_Enc                                   -1.165044\n",
              "Ethnicity_African American                           1.134682\n",
              "Ethnicity_Asian American                             1.163016\n",
              "Ethnicity_Latino                                     1.170239\n",
              "Ethnicity_caucasian                                  1.151352\n",
              "Country_region_East                                  1.511436\n",
              "Country_region_North                                 1.452545\n",
              "Country_region_South                                 0.421069\n",
              "Country_region_West                                  1.513729\n",
              "Hotel_Type_Airport Hotels                            0.691293\n",
              "Hotel_Type_City Hotel                                0.712765\n",
              "Hotel_Type_Resort                                    0.717470\n",
              "Booking_channel_Agent                                2.018393\n",
              "Booking_channel_Direct                               0.932023\n",
              "Booking_channel_Online                              -0.267774\n",
              "dtype: float64"
            ]
          },
          "metadata": {
            "tags": []
          },
          "execution_count": 15
        }
      ]
    },
    {
      "cell_type": "code",
      "metadata": {
        "colab": {
          "base_uri": "https://localhost:8080/",
          "height": 1000
        },
        "id": "MaqPrMqmvZMo",
        "outputId": "02c21e9a-129f-4d61-868e-3e2aff574573"
      },
      "source": [
        "import seaborn as sns \r\n",
        "import matplotlib.pyplot as plt \r\n",
        "plt.figure(figsize=(20,15))\r\n",
        "ax = sns.heatmap(train_df.corr())"
      ],
      "execution_count": 20,
      "outputs": [
        {
          "output_type": "display_data",
          "data": {
            "image/png": "[encoded data removed]",
            "text/plain": [
              "<Figure size 1440x1080 with 2 Axes>"
            ]
          },
          "metadata": {
            "tags": [],
            "needs_background": "light"
          }
        }
      ]
    },
    {
      "cell_type": "markdown",
      "metadata": {
        "id": "OGNCpjGulit0"
      },
      "source": [
        "Model evaluation"
      ]
    },
    {
      "cell_type": "code",
      "metadata": {
        "colab": {
          "base_uri": "https://localhost:8080/"
        },
        "id": "si4mst8gl5OV",
        "outputId": "c80a3681-afdd-4d6f-f6cd-2cf97651102a"
      },
      "source": [
        "train_X, train_y,train_df= preprocessor(train)\r\n",
        "validattion_X,validation_y,validation_df= preprocessor(validation)\r\n",
        "cv = StratifiedKFold(n_splits=5, random_state=1, shuffle=True)\r\n",
        "base_models = [(\"DT_model\", DecisionTreeClassifier(random_state=42)),\r\n",
        "               (\"RF_model\", RandomForestClassifier(random_state=42,n_jobs=-1,n_estimators=400)),\r\n",
        "               (\"XT_model\",ExtraTreesClassifier()),\r\n",
        "               (\"LR_model\", LogisticRegression(random_state=42,n_jobs=-1,max_iter=250)),\r\n",
        "               (\"XGB_model\", XGBClassifier(random_state=42, n_jobs=-1)),\r\n",
        "               (\"MLP_model\",MLPClassifier(random_state=42)),\r\n",
        "               (\"Knn_model\",KNeighborsClassifier(n_neighbors=3)),\r\n",
        "               (\"LightGBM\",LGBMClassifier()),\r\n",
        "               (\"CatBoost\",CatBoostClassifier(n_estimators=400)),\r\n",
        "               (\"NB_model\",GaussianNB()),\r\n",
        "               (\"LDA_model\",LinearDiscriminantAnalysis())]\r\n",
        "\r\n",
        "for name, model in (base_models):\r\n",
        "  scores = cross_val_score(model, train_X, train_y, scoring='f1_macro', cv=cv, n_jobs=-1)\r\n",
        "  print(f\"{name} F1 Score: {round(np.mean(scores),4), round(np.std(scores),4)}\")"
      ],
      "execution_count": 21,
      "outputs": [
        {
          "output_type": "stream",
          "text": [
            "DT_model F1 Score: (0.3717, 0.0077)\n"
          ],
          "name": "stdout"
        },
        {
          "output_type": "stream",
          "text": [
            "/usr/local/lib/python3.7/dist-packages/joblib/externals/loky/process_executor.py:691: UserWarning: A worker stopped while some jobs were given to the executor. This can be caused by a too short worker timeout or by a memory leak.\n",
            "  \"timeout or by a memory leak.\", UserWarning\n"
          ],
          "name": "stderr"
        },
        {
          "output_type": "stream",
          "text": [
            "RF_model F1 Score: (0.2907, 0.0003)\n",
            "XT_model F1 Score: (0.2914, 0.0008)\n",
            "LR_model F1 Score: (0.2905, 0.0)\n",
            "XGB_model F1 Score: (0.2905, 0.0)\n",
            "MLP_model F1 Score: (0.3267, 0.0112)\n",
            "Knn_model F1 Score: (0.3262, 0.002)\n",
            "LightGBM F1 Score: (0.2913, 0.0005)\n",
            "CatBoost F1 Score: (0.3087, 0.0039)\n",
            "NB_model F1 Score: (0.321, 0.0045)\n",
            "LDA_model F1 Score: (0.2905, 0.0)\n"
          ],
          "name": "stdout"
        }
      ]
    },
    {
      "cell_type": "code",
      "metadata": {
        "colab": {
          "base_uri": "https://localhost:8080/"
        },
        "id": "aQb_JQQmVpuL",
        "outputId": "92e4a20f-f823-4a61-e0f4-b0702b9d48d2"
      },
      "source": [
        "from sklearn.metrics import f1_score, classification_report, plot_confusion_matrix,confusion_matrix,homogeneity_completeness_v_measure,accuracy_score,adjusted_rand_score\r\n",
        "train_X, train_y,train_df= preprocessor(train)\r\n",
        "validattion_X,validation_y,validation_df= preprocessor(validation)\r\n",
        "model=DecisionTreeClassifier()\r\n",
        "model.fit(train_X,train_y)\r\n",
        "pred=model.predict(validattion_X)\r\n",
        "acc= accuracy_score(validation_y,pred)\r\n",
        "fscore=f1_score(validation_y,pred,average=\"macro\")\r\n",
        "print(acc,fscore)"
      ],
      "execution_count": 22,
      "outputs": [
        {
          "output_type": "stream",
          "text": [
            "0.5332848308475809 0.3278970057009579\n"
          ],
          "name": "stdout"
        }
      ]
    },
    {
      "cell_type": "code",
      "metadata": {
        "colab": {
          "base_uri": "https://localhost:8080/",
          "height": 578
        },
        "id": "q7b0kFVKZwRe",
        "outputId": "229de24f-ed9f-4676-f849-aa7ae9c36fb9"
      },
      "source": [
        "test_X,test_y,test_df= preprocessor(test,test=True)\r\n",
        "test_pred=model.predict(test_X,test=True)\r\n",
        "reservation_outcome_mapping={1:\"Check-In\",2:\"Canceled\",3:\"No-Show\"}\r\n",
        "test_pred[\"Reservation_Status\"] = test_pred[\"Reservation_Status\"].replace(reservation_outcome_mapping)\r\n",
        "\r\n"
      ],
      "execution_count": null,
      "outputs": [
        {
          "output_type": "error",
          "ename": "KeyError",
          "evalue": "ignored",
          "traceback": [
            "\u001b[0;31m---------------------------------------------------------------------------\u001b[0m",
            "\u001b[0;31mKeyError\u001b[0m                                  Traceback (most recent call last)",
            "\u001b[0;32m/usr/local/lib/python3.7/dist-packages/pandas/core/indexes/base.py\u001b[0m in \u001b[0;36mget_loc\u001b[0;34m(self, key, method, tolerance)\u001b[0m\n\u001b[1;32m   2897\u001b[0m             \u001b[0;32mtry\u001b[0m\u001b[0;34m:\u001b[0m\u001b[0;34m\u001b[0m\u001b[0;34m\u001b[0m\u001b[0m\n\u001b[0;32m-> 2898\u001b[0;31m                 \u001b[0;32mreturn\u001b[0m \u001b[0mself\u001b[0m\u001b[0;34m.\u001b[0m\u001b[0m_engine\u001b[0m\u001b[0;34m.\u001b[0m\u001b[0mget_loc\u001b[0m\u001b[0;34m(\u001b[0m\u001b[0mcasted_key\u001b[0m\u001b[0;34m)\u001b[0m\u001b[0;34m\u001b[0m\u001b[0;34m\u001b[0m\u001b[0m\n\u001b[0m\u001b[1;32m   2899\u001b[0m             \u001b[0;32mexcept\u001b[0m \u001b[0mKeyError\u001b[0m \u001b[0;32mas\u001b[0m \u001b[0merr\u001b[0m\u001b[0;34m:\u001b[0m\u001b[0;34m\u001b[0m\u001b[0;34m\u001b[0m\u001b[0m\n",
            "\u001b[0;32mpandas/_libs/index.pyx\u001b[0m in \u001b[0;36mpandas._libs.index.IndexEngine.get_loc\u001b[0;34m()\u001b[0m\n",
            "\u001b[0;32mpandas/_libs/index.pyx\u001b[0m in \u001b[0;36mpandas._libs.index.IndexEngine.get_loc\u001b[0;34m()\u001b[0m\n",
            "\u001b[0;32mpandas/_libs/hashtable_class_helper.pxi\u001b[0m in \u001b[0;36mpandas._libs.hashtable.PyObjectHashTable.get_item\u001b[0;34m()\u001b[0m\n",
            "\u001b[0;32mpandas/_libs/hashtable_class_helper.pxi\u001b[0m in \u001b[0;36mpandas._libs.hashtable.PyObjectHashTable.get_item\u001b[0;34m()\u001b[0m\n",
            "\u001b[0;31mKeyError\u001b[0m: 'Reservation_Status'",
            "\nThe above exception was the direct cause of the following exception:\n",
            "\u001b[0;31mKeyError\u001b[0m                                  Traceback (most recent call last)",
            "\u001b[0;32m<ipython-input-76-e6273c680bf9>\u001b[0m in \u001b[0;36m<module>\u001b[0;34m()\u001b[0m\n\u001b[0;32m----> 1\u001b[0;31m \u001b[0mtest_X\u001b[0m\u001b[0;34m,\u001b[0m\u001b[0mtest_y\u001b[0m\u001b[0;34m,\u001b[0m\u001b[0mtest_df\u001b[0m\u001b[0;34m=\u001b[0m \u001b[0mpreprocessor\u001b[0m\u001b[0;34m(\u001b[0m\u001b[0mtest\u001b[0m\u001b[0;34m,\u001b[0m\u001b[0mtest\u001b[0m\u001b[0;34m=\u001b[0m\u001b[0;32mTrue\u001b[0m\u001b[0;34m)\u001b[0m\u001b[0;34m\u001b[0m\u001b[0;34m\u001b[0m\u001b[0m\n\u001b[0m\u001b[1;32m      2\u001b[0m \u001b[0mtest_pred\u001b[0m\u001b[0;34m=\u001b[0m\u001b[0mmodel\u001b[0m\u001b[0;34m.\u001b[0m\u001b[0mpredict\u001b[0m\u001b[0;34m(\u001b[0m\u001b[0mtest_X\u001b[0m\u001b[0;34m,\u001b[0m\u001b[0mtest\u001b[0m\u001b[0;34m=\u001b[0m\u001b[0;32mTrue\u001b[0m\u001b[0;34m)\u001b[0m\u001b[0;34m\u001b[0m\u001b[0;34m\u001b[0m\u001b[0m\n\u001b[1;32m      3\u001b[0m \u001b[0mreservation_outcome_mapping\u001b[0m\u001b[0;34m=\u001b[0m\u001b[0;34m{\u001b[0m\u001b[0;36m1\u001b[0m\u001b[0;34m:\u001b[0m\u001b[0;34m\"Check-In\"\u001b[0m\u001b[0;34m,\u001b[0m\u001b[0;36m2\u001b[0m\u001b[0;34m:\u001b[0m\u001b[0;34m\"Canceled\"\u001b[0m\u001b[0;34m,\u001b[0m\u001b[0;36m3\u001b[0m\u001b[0;34m:\u001b[0m\u001b[0;34m\"No-Show\"\u001b[0m\u001b[0;34m}\u001b[0m\u001b[0;34m\u001b[0m\u001b[0;34m\u001b[0m\u001b[0m\n\u001b[1;32m      4\u001b[0m \u001b[0mtest_pred\u001b[0m\u001b[0;34m[\u001b[0m\u001b[0;34m\"Reservation_Status\"\u001b[0m\u001b[0;34m]\u001b[0m \u001b[0;34m=\u001b[0m \u001b[0mtest_pred\u001b[0m\u001b[0;34m[\u001b[0m\u001b[0;34m\"Reservation_Status\"\u001b[0m\u001b[0;34m]\u001b[0m\u001b[0;34m.\u001b[0m\u001b[0mreplace\u001b[0m\u001b[0;34m(\u001b[0m\u001b[0mreservation_outcome_mapping\u001b[0m\u001b[0;34m)\u001b[0m\u001b[0;34m\u001b[0m\u001b[0;34m\u001b[0m\u001b[0m\n\u001b[1;32m      5\u001b[0m \u001b[0;34m\u001b[0m\u001b[0m\n",
            "\u001b[0;32m<ipython-input-52-6cc32b287a70>\u001b[0m in \u001b[0;36mpreprocessor\u001b[0;34m(df, test)\u001b[0m\n\u001b[1;32m      1\u001b[0m \u001b[0;32mdef\u001b[0m \u001b[0mpreprocessor\u001b[0m\u001b[0;34m(\u001b[0m\u001b[0mdf\u001b[0m\u001b[0;34m,\u001b[0m\u001b[0mtest\u001b[0m\u001b[0;34m=\u001b[0m\u001b[0;32mFalse\u001b[0m\u001b[0;34m)\u001b[0m\u001b[0;34m:\u001b[0m\u001b[0;34m\u001b[0m\u001b[0;34m\u001b[0m\u001b[0m\n\u001b[1;32m      2\u001b[0m   \u001b[0mdf\u001b[0m\u001b[0;34m=\u001b[0m\u001b[0mfeature_eng\u001b[0m\u001b[0;34m(\u001b[0m\u001b[0mdf\u001b[0m\u001b[0;34m)\u001b[0m\u001b[0;34m\u001b[0m\u001b[0;34m\u001b[0m\u001b[0m\n\u001b[0;32m----> 3\u001b[0;31m   \u001b[0mdf\u001b[0m\u001b[0;34m=\u001b[0m \u001b[0mmapping\u001b[0m\u001b[0;34m(\u001b[0m\u001b[0mdf\u001b[0m\u001b[0;34m)\u001b[0m\u001b[0;34m\u001b[0m\u001b[0;34m\u001b[0m\u001b[0m\n\u001b[0m\u001b[1;32m      4\u001b[0m   \u001b[0mdf\u001b[0m\u001b[0;34m=\u001b[0m\u001b[0moneHotEncoder\u001b[0m\u001b[0;34m(\u001b[0m\u001b[0mdf\u001b[0m\u001b[0;34m)\u001b[0m\u001b[0;34m\u001b[0m\u001b[0;34m\u001b[0m\u001b[0m\n\u001b[1;32m      5\u001b[0m   \u001b[0mcols_to_norm\u001b[0m\u001b[0;34m=\u001b[0m\u001b[0mdf\u001b[0m\u001b[0;34m.\u001b[0m\u001b[0mcolumns\u001b[0m\u001b[0;34m.\u001b[0m\u001b[0mto_list\u001b[0m\u001b[0;34m(\u001b[0m\u001b[0;34m)\u001b[0m\u001b[0;34m\u001b[0m\u001b[0;34m\u001b[0m\u001b[0m\n",
            "\u001b[0;32m<ipython-input-48-a00442fc5d0a>\u001b[0m in \u001b[0;36mmapping\u001b[0;34m(df, test)\u001b[0m\n\u001b[1;32m     13\u001b[0m   \u001b[0mdf\u001b[0m\u001b[0;34m[\u001b[0m\u001b[0;34m\"Deposit_type_EnC\"\u001b[0m\u001b[0;34m]\u001b[0m \u001b[0;34m=\u001b[0m \u001b[0mdf\u001b[0m\u001b[0;34m[\u001b[0m\u001b[0;34m\"Deposit_type\"\u001b[0m\u001b[0;34m]\u001b[0m\u001b[0;34m.\u001b[0m\u001b[0mreplace\u001b[0m\u001b[0;34m(\u001b[0m\u001b[0mdeposite_mapping\u001b[0m\u001b[0;34m)\u001b[0m\u001b[0;34m\u001b[0m\u001b[0;34m\u001b[0m\u001b[0m\n\u001b[1;32m     14\u001b[0m   \u001b[0;32mif\u001b[0m\u001b[0;34m(\u001b[0m\u001b[0;34m~\u001b[0m\u001b[0mtest\u001b[0m\u001b[0;34m)\u001b[0m\u001b[0;34m:\u001b[0m\u001b[0;34m\u001b[0m\u001b[0;34m\u001b[0m\u001b[0m\n\u001b[0;32m---> 15\u001b[0;31m     \u001b[0mdf\u001b[0m\u001b[0;34m[\u001b[0m\u001b[0;34m\"Reservation_Status_Enc\"\u001b[0m\u001b[0;34m]\u001b[0m \u001b[0;34m=\u001b[0m \u001b[0mdf\u001b[0m\u001b[0;34m[\u001b[0m\u001b[0;34m\"Reservation_Status\"\u001b[0m\u001b[0;34m]\u001b[0m\u001b[0;34m.\u001b[0m\u001b[0mreplace\u001b[0m\u001b[0;34m(\u001b[0m\u001b[0mreservation_mapping\u001b[0m\u001b[0;34m)\u001b[0m\u001b[0;34m\u001b[0m\u001b[0;34m\u001b[0m\u001b[0m\n\u001b[0m\u001b[1;32m     16\u001b[0m   \u001b[0mdf\u001b[0m\u001b[0;34m[\u001b[0m\u001b[0;34m\"Visted_Previously_Enc\"\u001b[0m\u001b[0;34m]\u001b[0m \u001b[0;34m=\u001b[0m \u001b[0mdf\u001b[0m\u001b[0;34m[\u001b[0m\u001b[0;34m\"Visted_Previously\"\u001b[0m\u001b[0;34m]\u001b[0m\u001b[0;34m.\u001b[0m\u001b[0mreplace\u001b[0m\u001b[0;34m(\u001b[0m\u001b[0mboolean_mapping\u001b[0m\u001b[0;34m)\u001b[0m\u001b[0;34m\u001b[0m\u001b[0;34m\u001b[0m\u001b[0m\n\u001b[1;32m     17\u001b[0m   \u001b[0mdf\u001b[0m\u001b[0;34m[\u001b[0m\u001b[0;34m\"Required_Car_Parking_Enc\"\u001b[0m\u001b[0;34m]\u001b[0m \u001b[0;34m=\u001b[0m \u001b[0mdf\u001b[0m\u001b[0;34m[\u001b[0m\u001b[0;34m\"Required_Car_Parking\"\u001b[0m\u001b[0;34m]\u001b[0m\u001b[0;34m.\u001b[0m\u001b[0mreplace\u001b[0m\u001b[0;34m(\u001b[0m\u001b[0mboolean_mapping\u001b[0m\u001b[0;34m)\u001b[0m\u001b[0;34m\u001b[0m\u001b[0;34m\u001b[0m\u001b[0m\n",
            "\u001b[0;32m/usr/local/lib/python3.7/dist-packages/pandas/core/frame.py\u001b[0m in \u001b[0;36m__getitem__\u001b[0;34m(self, key)\u001b[0m\n\u001b[1;32m   2904\u001b[0m             \u001b[0;32mif\u001b[0m \u001b[0mself\u001b[0m\u001b[0;34m.\u001b[0m\u001b[0mcolumns\u001b[0m\u001b[0;34m.\u001b[0m\u001b[0mnlevels\u001b[0m \u001b[0;34m>\u001b[0m \u001b[0;36m1\u001b[0m\u001b[0;34m:\u001b[0m\u001b[0;34m\u001b[0m\u001b[0;34m\u001b[0m\u001b[0m\n\u001b[1;32m   2905\u001b[0m                 \u001b[0;32mreturn\u001b[0m \u001b[0mself\u001b[0m\u001b[0;34m.\u001b[0m\u001b[0m_getitem_multilevel\u001b[0m\u001b[0;34m(\u001b[0m\u001b[0mkey\u001b[0m\u001b[0;34m)\u001b[0m\u001b[0;34m\u001b[0m\u001b[0;34m\u001b[0m\u001b[0m\n\u001b[0;32m-> 2906\u001b[0;31m             \u001b[0mindexer\u001b[0m \u001b[0;34m=\u001b[0m \u001b[0mself\u001b[0m\u001b[0;34m.\u001b[0m\u001b[0mcolumns\u001b[0m\u001b[0;34m.\u001b[0m\u001b[0mget_loc\u001b[0m\u001b[0;34m(\u001b[0m\u001b[0mkey\u001b[0m\u001b[0;34m)\u001b[0m\u001b[0;34m\u001b[0m\u001b[0;34m\u001b[0m\u001b[0m\n\u001b[0m\u001b[1;32m   2907\u001b[0m             \u001b[0;32mif\u001b[0m \u001b[0mis_integer\u001b[0m\u001b[0;34m(\u001b[0m\u001b[0mindexer\u001b[0m\u001b[0;34m)\u001b[0m\u001b[0;34m:\u001b[0m\u001b[0;34m\u001b[0m\u001b[0;34m\u001b[0m\u001b[0m\n\u001b[1;32m   2908\u001b[0m                 \u001b[0mindexer\u001b[0m \u001b[0;34m=\u001b[0m \u001b[0;34m[\u001b[0m\u001b[0mindexer\u001b[0m\u001b[0;34m]\u001b[0m\u001b[0;34m\u001b[0m\u001b[0;34m\u001b[0m\u001b[0m\n",
            "\u001b[0;32m/usr/local/lib/python3.7/dist-packages/pandas/core/indexes/base.py\u001b[0m in \u001b[0;36mget_loc\u001b[0;34m(self, key, method, tolerance)\u001b[0m\n\u001b[1;32m   2898\u001b[0m                 \u001b[0;32mreturn\u001b[0m \u001b[0mself\u001b[0m\u001b[0;34m.\u001b[0m\u001b[0m_engine\u001b[0m\u001b[0;34m.\u001b[0m\u001b[0mget_loc\u001b[0m\u001b[0;34m(\u001b[0m\u001b[0mcasted_key\u001b[0m\u001b[0;34m)\u001b[0m\u001b[0;34m\u001b[0m\u001b[0;34m\u001b[0m\u001b[0m\n\u001b[1;32m   2899\u001b[0m             \u001b[0;32mexcept\u001b[0m \u001b[0mKeyError\u001b[0m \u001b[0;32mas\u001b[0m \u001b[0merr\u001b[0m\u001b[0;34m:\u001b[0m\u001b[0;34m\u001b[0m\u001b[0;34m\u001b[0m\u001b[0m\n\u001b[0;32m-> 2900\u001b[0;31m                 \u001b[0;32mraise\u001b[0m \u001b[0mKeyError\u001b[0m\u001b[0;34m(\u001b[0m\u001b[0mkey\u001b[0m\u001b[0;34m)\u001b[0m \u001b[0;32mfrom\u001b[0m \u001b[0merr\u001b[0m\u001b[0;34m\u001b[0m\u001b[0;34m\u001b[0m\u001b[0m\n\u001b[0m\u001b[1;32m   2901\u001b[0m \u001b[0;34m\u001b[0m\u001b[0m\n\u001b[1;32m   2902\u001b[0m         \u001b[0;32mif\u001b[0m \u001b[0mtolerance\u001b[0m \u001b[0;32mis\u001b[0m \u001b[0;32mnot\u001b[0m \u001b[0;32mNone\u001b[0m\u001b[0;34m:\u001b[0m\u001b[0;34m\u001b[0m\u001b[0;34m\u001b[0m\u001b[0m\n",
            "\u001b[0;31mKeyError\u001b[0m: 'Reservation_Status'"
          ]
        }
      ]
    },
    {
      "cell_type": "code",
      "metadata": {
        "id": "JoqMMhrXK360",
        "outputId": "1ec5c7ec-7348-4b83-aca2-58a540f2517f",
        "colab": {
          "base_uri": "https://localhost:8080/",
          "height": 136
        }
      },
      "source": [
        "adr_mapping=pd.DataFrame({'ADR' :train.groupby([train[\"Expected_checkin\"], \"Hotel_Type\"])[\"Room_Rate\"].mean()}).reset_index()\r\n",
        "adr_mapping[adr_mapping['Expected_checkin']=='1/1/2016'].head()\r\n",
        "# adr_mapping.head(20)"
      ],
      "execution_count": 32,
      "outputs": [
        {
          "output_type": "execute_result",
          "data": {
            "text/html": [
              "<div>\n",
              "<style scoped>\n",
              "    .dataframe tbody tr th:only-of-type {\n",
              "        vertical-align: middle;\n",
              "    }\n",
              "\n",
              "    .dataframe tbody tr th {\n",
              "        vertical-align: top;\n",
              "    }\n",
              "\n",
              "    .dataframe thead th {\n",
              "        text-align: right;\n",
              "    }\n",
              "</style>\n",
              "<table border=\"1\" class=\"dataframe\">\n",
              "  <thead>\n",
              "    <tr style=\"text-align: right;\">\n",
              "      <th></th>\n",
              "      <th>Expected_checkin</th>\n",
              "      <th>Hotel_Type</th>\n",
              "      <th>ADR</th>\n",
              "    </tr>\n",
              "  </thead>\n",
              "  <tbody>\n",
              "    <tr>\n",
              "      <th>1</th>\n",
              "      <td>1/1/2016</td>\n",
              "      <td>Airport Hotels</td>\n",
              "      <td>203.500000</td>\n",
              "    </tr>\n",
              "    <tr>\n",
              "      <th>2</th>\n",
              "      <td>1/1/2016</td>\n",
              "      <td>City Hotel</td>\n",
              "      <td>199.166667</td>\n",
              "    </tr>\n",
              "    <tr>\n",
              "      <th>3</th>\n",
              "      <td>1/1/2016</td>\n",
              "      <td>Resort</td>\n",
              "      <td>175.000000</td>\n",
              "    </tr>\n",
              "  </tbody>\n",
              "</table>\n",
              "</div>"
            ],
            "text/plain": [
              "  Expected_checkin      Hotel_Type         ADR\n",
              "1         1/1/2016  Airport Hotels  203.500000\n",
              "2         1/1/2016      City Hotel  199.166667\n",
              "3         1/1/2016          Resort  175.000000"
            ]
          },
          "metadata": {
            "tags": []
          },
          "execution_count": 32
        }
      ]
    },
    {
      "cell_type": "code",
      "metadata": {
        "colab": {
          "base_uri": "https://localhost:8080/",
          "height": 232
        },
        "id": "U0KP7FDboTUO",
        "outputId": "00760c46-7205-4c91-fff9-69fad6cb17fc"
      },
      "source": [
        "train_X.head()"
      ],
      "execution_count": null,
      "outputs": [
        {
          "output_type": "execute_result",
          "data": {
            "text/html": [
              "<div>\n",
              "<style scoped>\n",
              "    .dataframe tbody tr th:only-of-type {\n",
              "        vertical-align: middle;\n",
              "    }\n",
              "\n",
              "    .dataframe tbody tr th {\n",
              "        vertical-align: top;\n",
              "    }\n",
              "\n",
              "    .dataframe thead th {\n",
              "        text-align: right;\n",
              "    }\n",
              "</style>\n",
              "<table border=\"1\" class=\"dataframe\">\n",
              "  <thead>\n",
              "    <tr style=\"text-align: right;\">\n",
              "      <th></th>\n",
              "      <th>Age</th>\n",
              "      <th>Adults</th>\n",
              "      <th>Children</th>\n",
              "      <th>Babies</th>\n",
              "      <th>Discount_Rate</th>\n",
              "      <th>Room_Rate</th>\n",
              "      <th>Expected_duration</th>\n",
              "      <th>No_of_date_between_booking_date_expected_checkin</th>\n",
              "      <th>No_of_date_between_booking_date_expected_checkout</th>\n",
              "      <th>Expected_checkin_month</th>\n",
              "      <th>Expected_checkout_month</th>\n",
              "      <th>Booking_date_month</th>\n",
              "      <th>Expected_weekdays</th>\n",
              "      <th>Expected_weekends</th>\n",
              "      <th>Gender_Enc</th>\n",
              "      <th>Educational_Level_Enc</th>\n",
              "      <th>Income_Enc</th>\n",
              "      <th>Meal_Type_Enc</th>\n",
              "      <th>Deposit_type_EnC</th>\n",
              "      <th>Visted_Previously_Enc</th>\n",
              "      <th>Required_Car_Parking_Enc</th>\n",
              "      <th>Previous_Cancellations_Enc</th>\n",
              "      <th>Use_Promotion_Enc</th>\n",
              "      <th>Ethnicity_African American</th>\n",
              "      <th>Ethnicity_Asian American</th>\n",
              "      <th>Ethnicity_Latino</th>\n",
              "      <th>Ethnicity_caucasian</th>\n",
              "      <th>Country_region_East</th>\n",
              "      <th>Country_region_North</th>\n",
              "      <th>Country_region_South</th>\n",
              "      <th>Country_region_West</th>\n",
              "      <th>Hotel_Type_Airport Hotels</th>\n",
              "      <th>Hotel_Type_City Hotel</th>\n",
              "      <th>Hotel_Type_Resort</th>\n",
              "      <th>Booking_channel_Agent</th>\n",
              "      <th>Booking_channel_Direct</th>\n",
              "      <th>Booking_channel_Online</th>\n",
              "    </tr>\n",
              "  </thead>\n",
              "  <tbody>\n",
              "    <tr>\n",
              "      <th>0</th>\n",
              "      <td>0.423077</td>\n",
              "      <td>0.25</td>\n",
              "      <td>0.5</td>\n",
              "      <td>0.0</td>\n",
              "      <td>0.250</td>\n",
              "      <td>0.786667</td>\n",
              "      <td>0.0</td>\n",
              "      <td>0.063202</td>\n",
              "      <td>0.059238</td>\n",
              "      <td>0.545455</td>\n",
              "      <td>0.545455</td>\n",
              "      <td>0.363636</td>\n",
              "      <td>0.4</td>\n",
              "      <td>0.0</td>\n",
              "      <td>0.0</td>\n",
              "      <td>1.000000</td>\n",
              "      <td>0.000000</td>\n",
              "      <td>0.0</td>\n",
              "      <td>0.0</td>\n",
              "      <td>0.0</td>\n",
              "      <td>1.0</td>\n",
              "      <td>0.0</td>\n",
              "      <td>1.0</td>\n",
              "      <td>0.0</td>\n",
              "      <td>0.0</td>\n",
              "      <td>1.0</td>\n",
              "      <td>0.0</td>\n",
              "      <td>0.0</td>\n",
              "      <td>1.0</td>\n",
              "      <td>0.0</td>\n",
              "      <td>0.0</td>\n",
              "      <td>0.0</td>\n",
              "      <td>1.0</td>\n",
              "      <td>0.0</td>\n",
              "      <td>0.0</td>\n",
              "      <td>0.0</td>\n",
              "      <td>1.0</td>\n",
              "    </tr>\n",
              "    <tr>\n",
              "      <th>1</th>\n",
              "      <td>0.596154</td>\n",
              "      <td>0.50</td>\n",
              "      <td>1.0</td>\n",
              "      <td>0.0</td>\n",
              "      <td>0.000</td>\n",
              "      <td>0.566667</td>\n",
              "      <td>0.0</td>\n",
              "      <td>0.056180</td>\n",
              "      <td>0.052186</td>\n",
              "      <td>0.545455</td>\n",
              "      <td>0.545455</td>\n",
              "      <td>0.363636</td>\n",
              "      <td>0.4</td>\n",
              "      <td>0.0</td>\n",
              "      <td>0.0</td>\n",
              "      <td>0.000000</td>\n",
              "      <td>0.666667</td>\n",
              "      <td>0.0</td>\n",
              "      <td>0.5</td>\n",
              "      <td>0.0</td>\n",
              "      <td>1.0</td>\n",
              "      <td>0.0</td>\n",
              "      <td>0.0</td>\n",
              "      <td>0.0</td>\n",
              "      <td>0.0</td>\n",
              "      <td>1.0</td>\n",
              "      <td>0.0</td>\n",
              "      <td>1.0</td>\n",
              "      <td>0.0</td>\n",
              "      <td>0.0</td>\n",
              "      <td>0.0</td>\n",
              "      <td>0.0</td>\n",
              "      <td>1.0</td>\n",
              "      <td>0.0</td>\n",
              "      <td>0.0</td>\n",
              "      <td>0.0</td>\n",
              "      <td>1.0</td>\n",
              "    </tr>\n",
              "    <tr>\n",
              "      <th>2</th>\n",
              "      <td>0.461538</td>\n",
              "      <td>0.50</td>\n",
              "      <td>1.0</td>\n",
              "      <td>0.0</td>\n",
              "      <td>0.000</td>\n",
              "      <td>0.126667</td>\n",
              "      <td>1.0</td>\n",
              "      <td>0.009831</td>\n",
              "      <td>0.009873</td>\n",
              "      <td>0.545455</td>\n",
              "      <td>0.545455</td>\n",
              "      <td>0.454545</td>\n",
              "      <td>0.6</td>\n",
              "      <td>1.0</td>\n",
              "      <td>0.0</td>\n",
              "      <td>1.000000</td>\n",
              "      <td>0.000000</td>\n",
              "      <td>0.0</td>\n",
              "      <td>0.0</td>\n",
              "      <td>0.0</td>\n",
              "      <td>1.0</td>\n",
              "      <td>0.0</td>\n",
              "      <td>0.0</td>\n",
              "      <td>0.0</td>\n",
              "      <td>0.0</td>\n",
              "      <td>0.0</td>\n",
              "      <td>1.0</td>\n",
              "      <td>1.0</td>\n",
              "      <td>0.0</td>\n",
              "      <td>0.0</td>\n",
              "      <td>0.0</td>\n",
              "      <td>0.0</td>\n",
              "      <td>1.0</td>\n",
              "      <td>0.0</td>\n",
              "      <td>0.0</td>\n",
              "      <td>0.0</td>\n",
              "      <td>1.0</td>\n",
              "    </tr>\n",
              "    <tr>\n",
              "      <th>3</th>\n",
              "      <td>0.134615</td>\n",
              "      <td>0.75</td>\n",
              "      <td>1.0</td>\n",
              "      <td>0.0</td>\n",
              "      <td>0.125</td>\n",
              "      <td>0.293333</td>\n",
              "      <td>0.0</td>\n",
              "      <td>0.022472</td>\n",
              "      <td>0.018336</td>\n",
              "      <td>0.545455</td>\n",
              "      <td>0.545455</td>\n",
              "      <td>0.454545</td>\n",
              "      <td>0.4</td>\n",
              "      <td>0.0</td>\n",
              "      <td>1.0</td>\n",
              "      <td>0.666667</td>\n",
              "      <td>1.000000</td>\n",
              "      <td>0.0</td>\n",
              "      <td>0.5</td>\n",
              "      <td>0.0</td>\n",
              "      <td>1.0</td>\n",
              "      <td>0.0</td>\n",
              "      <td>1.0</td>\n",
              "      <td>1.0</td>\n",
              "      <td>0.0</td>\n",
              "      <td>0.0</td>\n",
              "      <td>0.0</td>\n",
              "      <td>0.0</td>\n",
              "      <td>0.0</td>\n",
              "      <td>1.0</td>\n",
              "      <td>0.0</td>\n",
              "      <td>1.0</td>\n",
              "      <td>0.0</td>\n",
              "      <td>0.0</td>\n",
              "      <td>1.0</td>\n",
              "      <td>0.0</td>\n",
              "      <td>0.0</td>\n",
              "    </tr>\n",
              "    <tr>\n",
              "      <th>4</th>\n",
              "      <td>0.846154</td>\n",
              "      <td>0.00</td>\n",
              "      <td>0.0</td>\n",
              "      <td>0.0</td>\n",
              "      <td>0.250</td>\n",
              "      <td>0.946667</td>\n",
              "      <td>0.0</td>\n",
              "      <td>0.023876</td>\n",
              "      <td>0.019746</td>\n",
              "      <td>0.545455</td>\n",
              "      <td>0.545455</td>\n",
              "      <td>0.454545</td>\n",
              "      <td>0.2</td>\n",
              "      <td>0.5</td>\n",
              "      <td>0.0</td>\n",
              "      <td>0.333333</td>\n",
              "      <td>0.333333</td>\n",
              "      <td>0.0</td>\n",
              "      <td>0.0</td>\n",
              "      <td>0.0</td>\n",
              "      <td>0.0</td>\n",
              "      <td>0.0</td>\n",
              "      <td>1.0</td>\n",
              "      <td>0.0</td>\n",
              "      <td>0.0</td>\n",
              "      <td>1.0</td>\n",
              "      <td>0.0</td>\n",
              "      <td>1.0</td>\n",
              "      <td>0.0</td>\n",
              "      <td>0.0</td>\n",
              "      <td>0.0</td>\n",
              "      <td>0.0</td>\n",
              "      <td>0.0</td>\n",
              "      <td>1.0</td>\n",
              "      <td>0.0</td>\n",
              "      <td>1.0</td>\n",
              "      <td>0.0</td>\n",
              "    </tr>\n",
              "  </tbody>\n",
              "</table>\n",
              "</div>"
            ],
            "text/plain": [
              "        Age  Adults  ...  Booking_channel_Direct  Booking_channel_Online\n",
              "0  0.423077    0.25  ...                     0.0                     1.0\n",
              "1  0.596154    0.50  ...                     0.0                     1.0\n",
              "2  0.461538    0.50  ...                     0.0                     1.0\n",
              "3  0.134615    0.75  ...                     0.0                     0.0\n",
              "4  0.846154    0.00  ...                     1.0                     0.0\n",
              "\n",
              "[5 rows x 37 columns]"
            ]
          },
          "metadata": {
            "tags": []
          },
          "execution_count": 71
        }
      ]
    },
    {
      "cell_type": "code",
      "metadata": {
        "colab": {
          "base_uri": "https://localhost:8080/",
          "height": 881
        },
        "id": "ih-0tTS96rMu",
        "outputId": "b0f05f07-ccd6-46d5-99fb-5332ab0e2384"
      },
      "source": [
        "from matplotlib import pyplot\r\n",
        "model = DecisionTreeClassifier()\r\n",
        "# fit the model\r\n",
        "model.fit(train_X, train_y)\r\n",
        "# get importance\r\n",
        "importance = model.feature_importances_\r\n",
        "# summarize feature importance\r\n",
        "for i,v in enumerate(importance):\r\n",
        "\tprint('Feature: %0d, Score: %.5f' % (i,v))\r\n",
        "# plot feature importance\r\n",
        "pyplot.bar([x for x in range(len(importance))], importance)\r\n",
        "pyplot.show()"
      ],
      "execution_count": null,
      "outputs": [
        {
          "output_type": "stream",
          "text": [
            "Feature: 0, Score: 0.10924\n",
            "Feature: 1, Score: 0.03705\n",
            "Feature: 2, Score: 0.02322\n",
            "Feature: 3, Score: 0.01917\n",
            "Feature: 4, Score: 0.04771\n",
            "Feature: 5, Score: 0.11776\n",
            "Feature: 6, Score: 0.02592\n",
            "Feature: 7, Score: 0.07569\n",
            "Feature: 8, Score: 0.09689\n",
            "Feature: 9, Score: 0.02656\n",
            "Feature: 10, Score: 0.02970\n",
            "Feature: 11, Score: 0.03536\n",
            "Feature: 12, Score: 0.01506\n",
            "Feature: 13, Score: 0.03353\n",
            "Feature: 14, Score: 0.03567\n",
            "Feature: 15, Score: 0.03179\n",
            "Feature: 16, Score: 0.02424\n",
            "Feature: 17, Score: 0.01588\n",
            "Feature: 18, Score: 0.01670\n",
            "Feature: 19, Score: 0.00971\n",
            "Feature: 20, Score: 0.00789\n",
            "Feature: 21, Score: 0.01193\n",
            "Feature: 22, Score: 0.01015\n",
            "Feature: 23, Score: 0.01265\n",
            "Feature: 24, Score: 0.01229\n",
            "Feature: 25, Score: 0.01307\n",
            "Feature: 26, Score: 0.01051\n",
            "Feature: 27, Score: 0.01391\n",
            "Feature: 28, Score: 0.01138\n",
            "Feature: 29, Score: 0.01120\n",
            "Feature: 30, Score: 0.01322\n",
            "Feature: 31, Score: 0.01097\n",
            "Feature: 32, Score: 0.01175\n",
            "Feature: 33, Score: 0.01112\n",
            "Feature: 34, Score: 0.01111\n"
          ],
          "name": "stdout"
        },
        {
          "output_type": "display_data",
          "data": {
            "image/png": "[encoded data removed]",
            "text/plain": [
              "<Figure size 432x288 with 1 Axes>"
            ]
          },
          "metadata": {
            "tags": [],
            "needs_background": "light"
          }
        }
      ]
    },
    {
      "cell_type": "code",
      "metadata": {
        "id": "avFReaJOvbm7"
      },
      "source": [
        ""
      ],
      "execution_count": null,
      "outputs": []
    }
  ]
}