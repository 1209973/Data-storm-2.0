{
  "nbformat": 4,
  "nbformat_minor": 0,
  "metadata": {
    "colab": {
      "name": "data_storm_2_rr.ipynb",
      "provenance": [],
      "collapsed_sections": []
    },
    "kernelspec": {
      "display_name": "Python 3",
      "language": "python",
      "name": "python3"
    },
    "language_info": {
      "codemirror_mode": {
        "name": "ipython",
        "version": 3
      },
      "file_extension": ".py",
      "mimetype": "text/x-python",
      "name": "python",
      "nbconvert_exporter": "python",
      "pygments_lexer": "ipython3",
      "version": "3.7.0"
    }
  },
  "cells": [
    {
      "cell_type": "markdown",
      "metadata": {
        "id": "vslfJCaDX83f"
      },
      "source": [
        "# This is  draft version 1 of the notebook used for the data storm 2.0"
      ]
    },
    {
      "cell_type": "markdown",
      "metadata": {
        "id": "oN7DjoLvYLkl"
      },
      "source": [
        "Import the required modules \n",
        "\n"
      ]
    },
    {
      "cell_type": "code",
      "metadata": {
        "id": "P_OiKyzcXNnp"
      },
      "source": [
        "import pandas as pd\n",
        "import numpy as np\n",
        "from sklearn.tree import DecisionTreeClassifier\n",
        "from sklearn.ensemble import RandomForestClassifier,ExtraTreesClassifier\n",
        "from sklearn.linear_model import LogisticRegression\n",
        "from sklearn.naive_bayes import GaussianNB\n",
        "from sklearn.discriminant_analysis import LinearDiscriminantAnalysis\n",
        "from xgboost.sklearn import XGBClassifier\n",
        "from sklearn.neural_network import MLPClassifier\n",
        "from sklearn.neighbors import KNeighborsClassifier\n",
        "from sklearn.model_selection import KFold,StratifiedKFold\n",
        "from sklearn.preprocessing import OneHotEncoder,MinMaxScaler\n",
        "from sklearn.model_selection import cross_val_score\n",
        "from tqdm import tqdm\n",
        "from datetime import datetime,timedelta\n",
        "from imblearn.over_sampling import SMOTE"
      ],
      "execution_count": null,
      "outputs": []
    },
    {
      "cell_type": "markdown",
      "metadata": {
        "id": "pI1lh0Zcawoq"
      },
      "source": [
        "Read csv to pandas dataframe"
      ]
    },
    {
      "cell_type": "code",
      "metadata": {
        "colab": {
          "base_uri": "https://localhost:8080/"
        },
        "id": "wyiS6CBbYHDU",
        "outputId": "83b2ae10-4d99-45df-d0c9-8d3dabc62e89"
      },
      "source": [
        "from google.colab import drive\n",
        "drive.mount('/content/gdrive')\n",
        "train= pd.read_csv('/content/gdrive/MyDrive/Data storm 2.0/Data/Hotel-A-train.csv')\n",
        "validation = pd.read_csv('/content/gdrive/MyDrive/Data storm 2.0/Data/Hotel-A-validation.csv')\n",
        "test= pd.read_csv('/content/gdrive/MyDrive/Data storm 2.0/Data/Hotel-A-test.csv')"
      ],
      "execution_count": null,
      "outputs": [
        {
          "output_type": "stream",
          "text": [
            "Mounted at /content/gdrive\n"
          ],
          "name": "stdout"
        }
      ]
    },
    {
      "cell_type": "code",
      "metadata": {
        "colab": {
          "base_uri": "https://localhost:8080/"
        },
        "id": "nC8GOfOoZsMh",
        "outputId": "1daff27c-46d4-484d-accc-921b07b7fb43"
      },
      "source": [
        "train.shape"
      ],
      "execution_count": null,
      "outputs": [
        {
          "output_type": "execute_result",
          "data": {
            "text/plain": [
              "(27499, 24)"
            ]
          },
          "metadata": {
            "tags": []
          },
          "execution_count": 46
        }
      ]
    },
    {
      "cell_type": "code",
      "metadata": {
        "colab": {
          "base_uri": "https://localhost:8080/",
          "height": 282
        },
        "id": "GJhgt31qZ_Cv",
        "outputId": "f6bf3028-63fe-4abf-fc10-a1047abff83a"
      },
      "source": [
        "train.head()"
      ],
      "execution_count": null,
      "outputs": [
        {
          "output_type": "execute_result",
          "data": {
            "text/html": [
              "<div>\n",
              "<style scoped>\n",
              "    .dataframe tbody tr th:only-of-type {\n",
              "        vertical-align: middle;\n",
              "    }\n",
              "\n",
              "    .dataframe tbody tr th {\n",
              "        vertical-align: top;\n",
              "    }\n",
              "\n",
              "    .dataframe thead th {\n",
              "        text-align: right;\n",
              "    }\n",
              "</style>\n",
              "<table border=\"1\" class=\"dataframe\">\n",
              "  <thead>\n",
              "    <tr style=\"text-align: right;\">\n",
              "      <th></th>\n",
              "      <th>Reservation-id</th>\n",
              "      <th>Gender</th>\n",
              "      <th>Age</th>\n",
              "      <th>Ethnicity</th>\n",
              "      <th>Educational_Level</th>\n",
              "      <th>Income</th>\n",
              "      <th>Country_region</th>\n",
              "      <th>Hotel_Type</th>\n",
              "      <th>Expected_checkin</th>\n",
              "      <th>Expected_checkout</th>\n",
              "      <th>...</th>\n",
              "      <th>Meal_Type</th>\n",
              "      <th>Visted_Previously</th>\n",
              "      <th>Previous_Cancellations</th>\n",
              "      <th>Deposit_type</th>\n",
              "      <th>Booking_channel</th>\n",
              "      <th>Required_Car_Parking</th>\n",
              "      <th>Reservation_Status</th>\n",
              "      <th>Use_Promotion</th>\n",
              "      <th>Discount_Rate</th>\n",
              "      <th>Room_Rate</th>\n",
              "    </tr>\n",
              "  </thead>\n",
              "  <tbody>\n",
              "    <tr>\n",
              "      <th>0</th>\n",
              "      <td>39428300</td>\n",
              "      <td>F</td>\n",
              "      <td>40</td>\n",
              "      <td>Latino</td>\n",
              "      <td>Grad</td>\n",
              "      <td>&lt;25K</td>\n",
              "      <td>North</td>\n",
              "      <td>City Hotel</td>\n",
              "      <td>7/1/2015</td>\n",
              "      <td>7/2/2015</td>\n",
              "      <td>...</td>\n",
              "      <td>BB</td>\n",
              "      <td>No</td>\n",
              "      <td>No</td>\n",
              "      <td>No Deposit</td>\n",
              "      <td>Online</td>\n",
              "      <td>Yes</td>\n",
              "      <td>Check-In</td>\n",
              "      <td>Yes</td>\n",
              "      <td>10</td>\n",
              "      <td>218</td>\n",
              "    </tr>\n",
              "    <tr>\n",
              "      <th>1</th>\n",
              "      <td>77491756</td>\n",
              "      <td>F</td>\n",
              "      <td>49</td>\n",
              "      <td>Latino</td>\n",
              "      <td>Mid-School</td>\n",
              "      <td>50K -- 100K</td>\n",
              "      <td>East</td>\n",
              "      <td>City Hotel</td>\n",
              "      <td>7/1/2015</td>\n",
              "      <td>7/2/2015</td>\n",
              "      <td>...</td>\n",
              "      <td>BB</td>\n",
              "      <td>No</td>\n",
              "      <td>No</td>\n",
              "      <td>Refundable</td>\n",
              "      <td>Online</td>\n",
              "      <td>Yes</td>\n",
              "      <td>Check-In</td>\n",
              "      <td>No</td>\n",
              "      <td>0</td>\n",
              "      <td>185</td>\n",
              "    </tr>\n",
              "    <tr>\n",
              "      <th>2</th>\n",
              "      <td>73747291</td>\n",
              "      <td>F</td>\n",
              "      <td>42</td>\n",
              "      <td>caucasian</td>\n",
              "      <td>Grad</td>\n",
              "      <td>&lt;25K</td>\n",
              "      <td>East</td>\n",
              "      <td>City Hotel</td>\n",
              "      <td>7/2/2015</td>\n",
              "      <td>7/6/2015</td>\n",
              "      <td>...</td>\n",
              "      <td>BB</td>\n",
              "      <td>No</td>\n",
              "      <td>No</td>\n",
              "      <td>No Deposit</td>\n",
              "      <td>Online</td>\n",
              "      <td>Yes</td>\n",
              "      <td>Check-In</td>\n",
              "      <td>No</td>\n",
              "      <td>0</td>\n",
              "      <td>119</td>\n",
              "    </tr>\n",
              "    <tr>\n",
              "      <th>3</th>\n",
              "      <td>67301739</td>\n",
              "      <td>M</td>\n",
              "      <td>25</td>\n",
              "      <td>African American</td>\n",
              "      <td>College</td>\n",
              "      <td>&gt;100K</td>\n",
              "      <td>South</td>\n",
              "      <td>Airport Hotels</td>\n",
              "      <td>7/2/2015</td>\n",
              "      <td>7/3/2015</td>\n",
              "      <td>...</td>\n",
              "      <td>BB</td>\n",
              "      <td>No</td>\n",
              "      <td>No</td>\n",
              "      <td>Refundable</td>\n",
              "      <td>Agent</td>\n",
              "      <td>Yes</td>\n",
              "      <td>Check-In</td>\n",
              "      <td>Yes</td>\n",
              "      <td>5</td>\n",
              "      <td>144</td>\n",
              "    </tr>\n",
              "    <tr>\n",
              "      <th>4</th>\n",
              "      <td>77222321</td>\n",
              "      <td>F</td>\n",
              "      <td>62</td>\n",
              "      <td>Latino</td>\n",
              "      <td>High-School</td>\n",
              "      <td>25K --50K</td>\n",
              "      <td>East</td>\n",
              "      <td>Resort</td>\n",
              "      <td>7/3/2015</td>\n",
              "      <td>7/4/2015</td>\n",
              "      <td>...</td>\n",
              "      <td>BB</td>\n",
              "      <td>No</td>\n",
              "      <td>No</td>\n",
              "      <td>No Deposit</td>\n",
              "      <td>Direct</td>\n",
              "      <td>No</td>\n",
              "      <td>Check-In</td>\n",
              "      <td>Yes</td>\n",
              "      <td>10</td>\n",
              "      <td>242</td>\n",
              "    </tr>\n",
              "  </tbody>\n",
              "</table>\n",
              "<p>5 rows × 24 columns</p>\n",
              "</div>"
            ],
            "text/plain": [
              "   Reservation-id Gender  Age         Ethnicity Educational_Level  \\\n",
              "0        39428300      F   40            Latino              Grad   \n",
              "1        77491756      F   49            Latino        Mid-School   \n",
              "2        73747291      F   42         caucasian              Grad   \n",
              "3        67301739      M   25  African American           College   \n",
              "4        77222321      F   62            Latino       High-School   \n",
              "\n",
              "        Income Country_region      Hotel_Type Expected_checkin  \\\n",
              "0         <25K          North      City Hotel         7/1/2015   \n",
              "1  50K -- 100K           East      City Hotel         7/1/2015   \n",
              "2         <25K           East      City Hotel         7/2/2015   \n",
              "3        >100K          South  Airport Hotels         7/2/2015   \n",
              "4    25K --50K           East          Resort         7/3/2015   \n",
              "\n",
              "  Expected_checkout  ... Meal_Type  Visted_Previously  Previous_Cancellations  \\\n",
              "0          7/2/2015  ...        BB                 No                      No   \n",
              "1          7/2/2015  ...        BB                 No                      No   \n",
              "2          7/6/2015  ...        BB                 No                      No   \n",
              "3          7/3/2015  ...        BB                 No                      No   \n",
              "4          7/4/2015  ...        BB                 No                      No   \n",
              "\n",
              "   Deposit_type Booking_channel Required_Car_Parking Reservation_Status  \\\n",
              "0    No Deposit          Online                  Yes           Check-In   \n",
              "1    Refundable          Online                  Yes           Check-In   \n",
              "2    No Deposit          Online                  Yes           Check-In   \n",
              "3    Refundable           Agent                  Yes           Check-In   \n",
              "4    No Deposit          Direct                   No           Check-In   \n",
              "\n",
              "  Use_Promotion Discount_Rate Room_Rate  \n",
              "0           Yes            10       218  \n",
              "1            No             0       185  \n",
              "2            No             0       119  \n",
              "3           Yes             5       144  \n",
              "4           Yes            10       242  \n",
              "\n",
              "[5 rows x 24 columns]"
            ]
          },
          "metadata": {
            "tags": []
          },
          "execution_count": 47
        }
      ]
    },
    {
      "cell_type": "code",
      "metadata": {
        "colab": {
          "base_uri": "https://localhost:8080/"
        },
        "id": "6HbUlUWTLoNT",
        "outputId": "f92967cc-ea75-49cf-dbc7-5564909a37bb"
      },
      "source": [
        "train.isnull().sum()"
      ],
      "execution_count": null,
      "outputs": [
        {
          "output_type": "execute_result",
          "data": {
            "text/plain": [
              "Reservation-id            0\n",
              "Gender                    0\n",
              "Age                       0\n",
              "Ethnicity                 0\n",
              "Educational_Level         0\n",
              "Income                    0\n",
              "Country_region            0\n",
              "Hotel_Type                0\n",
              "Expected_checkin          0\n",
              "Expected_checkout         0\n",
              "Booking_date              0\n",
              "Adults                    0\n",
              "Children                  0\n",
              "Babies                    0\n",
              "Meal_Type                 0\n",
              "Visted_Previously         0\n",
              "Previous_Cancellations    0\n",
              "Deposit_type              0\n",
              "Booking_channel           0\n",
              "Required_Car_Parking      0\n",
              "Reservation_Status        0\n",
              "Use_Promotion             0\n",
              "Discount_Rate             0\n",
              "Room_Rate                 0\n",
              "dtype: int64"
            ]
          },
          "metadata": {
            "tags": []
          },
          "execution_count": 48
        }
      ]
    },
    {
      "cell_type": "code",
      "metadata": {
        "colab": {
          "base_uri": "https://localhost:8080/"
        },
        "id": "apVcNjSNLsl9",
        "outputId": "d194771b-45fd-4775-daa1-80241709d3fc"
      },
      "source": [
        "train.dtypes"
      ],
      "execution_count": null,
      "outputs": [
        {
          "output_type": "execute_result",
          "data": {
            "text/plain": [
              "Reservation-id             int64\n",
              "Gender                    object\n",
              "Age                        int64\n",
              "Ethnicity                 object\n",
              "Educational_Level         object\n",
              "Income                    object\n",
              "Country_region            object\n",
              "Hotel_Type                object\n",
              "Expected_checkin          object\n",
              "Expected_checkout         object\n",
              "Booking_date              object\n",
              "Adults                     int64\n",
              "Children                   int64\n",
              "Babies                     int64\n",
              "Meal_Type                 object\n",
              "Visted_Previously         object\n",
              "Previous_Cancellations    object\n",
              "Deposit_type              object\n",
              "Booking_channel           object\n",
              "Required_Car_Parking      object\n",
              "Reservation_Status        object\n",
              "Use_Promotion             object\n",
              "Discount_Rate              int64\n",
              "Room_Rate                  int64\n",
              "dtype: object"
            ]
          },
          "metadata": {
            "tags": []
          },
          "execution_count": 49
        }
      ]
    },
    {
      "cell_type": "code",
      "metadata": {
        "colab": {
          "base_uri": "https://localhost:8080/"
        },
        "id": "8UyOG7EdPP-A",
        "outputId": "ab5462bc-8d34-400c-ac68-57f58a2a3997"
      },
      "source": [
        "train['Reservation_Status'].value_counts()"
      ],
      "execution_count": null,
      "outputs": [
        {
          "output_type": "execute_result",
          "data": {
            "text/plain": [
              "Check-In    21240\n",
              "Canceled     4134\n",
              "No-Show      2125\n",
              "Name: Reservation_Status, dtype: int64"
            ]
          },
          "metadata": {
            "tags": []
          },
          "execution_count": 50
        }
      ]
    },
    {
      "cell_type": "markdown",
      "metadata": {
        "id": "cWRhHc0maJJ5"
      },
      "source": [
        "# Functions"
      ]
    },
    {
      "cell_type": "markdown",
      "metadata": {
        "id": "__HblKkWkZkB"
      },
      "source": [
        "Feature enginering  \n"
      ]
    },
    {
      "cell_type": "code",
      "metadata": {
        "id": "q8Go-Kie-tfE"
      },
      "source": [
        "def get_month(date):\n",
        "  return int(date.split('/')[0])\n",
        "\n",
        "def get_day(date):\n",
        "  return int(date.split('/')[1])\n",
        "\n",
        "def get_year(date):\n",
        "  return int(date.split('/')[2])\n",
        "\n",
        "def get_week_of_year(date):\n",
        "  return datetime.strptime(date, \"%m/%d/%Y\").isocalendar()[1]\n",
        "\n",
        "def get_days(start,end):\n",
        "  return (datetime.strptime(end, \"%m/%d/%Y\").date() -datetime.strptime(start, \"%m/%d/%Y\").date()).days\n",
        "\n",
        "def get_day_of_year(date_string):\n",
        "  return (datetime.strptime(date_string, '%m/%d/%Y')).timetuple().tm_yday\n",
        "\n",
        "# returns [Friday, Saturday, etc.]\n",
        "def get_day_of_week(date_string):\n",
        "  return datetime.strptime(date_string, '%m/%d/%Y').strftime('%A')\n",
        "\n",
        "def workdays(start, end, excluded=(6, 7)):\n",
        "  start= datetime.strptime(start, \"%m/%d/%Y\")\n",
        "  end= datetime.strptime(end, \"%m/%d/%Y\")\n",
        "  days = []\n",
        "  while start.date() <= end.date():\n",
        "      if start.isoweekday() not in excluded:\n",
        "          days.append(start)\n",
        "      start += timedelta(days=1)\n",
        "  return len(days)\n",
        "\n",
        "def weekend_days(start, end, included=(6, 7)):\n",
        "  start= datetime.strptime(start, \"%m/%d/%Y\")\n",
        "  end= datetime.strptime(end, \"%m/%d/%Y\")\n",
        "  days = []\n",
        "  while start.date() <= end.date():\n",
        "      if start.isoweekday()  in included:\n",
        "          days.append(start)\n",
        "      start += timedelta(days=1)\n",
        "  return len(days)"
      ],
      "execution_count": null,
      "outputs": []
    },
    {
      "cell_type": "code",
      "metadata": {
        "colab": {
          "base_uri": "https://localhost:8080/"
        },
        "id": "phzUx1ID-tfE",
        "outputId": "a8c28d50-e2b8-48d7-a1dd-bd7d7335868d"
      },
      "source": [
        "train_adr = {\n",
        "    'City Hotel': {},\n",
        "    'Airport Hotels': {},\n",
        "    'Resort': {}\n",
        "}\n",
        "\n",
        "validation_adr = {\n",
        "    'City Hotel': {},\n",
        "    'Airport Hotels': {},\n",
        "    'Resort': {}\n",
        "}\n",
        "\n",
        "test_adr = {\n",
        "    'City Hotel': {},\n",
        "    'Airport Hotels': {},\n",
        "    'Resort': {}\n",
        "}\n",
        "\n",
        "def calculate_adr_per_row(checkin, checkout, hotel_type, room_rate, dictionary):\n",
        "  day = get_day(checkin)\n",
        "  month = get_month(checkin)\n",
        "  year = get_year(checkin)\n",
        "  days_between = get_days(checkin, checkout)\n",
        "\n",
        "  for i in range(days_between):\n",
        "    key = f'{month}/{day+i}/{year}'\n",
        "    if key in dictionary[hotel_type]:\n",
        "      dictionary[hotel_type][key]['room_rate'] += room_rate\n",
        "      dictionary[hotel_type][key]['room_count'] += 1\n",
        "    else:\n",
        "      dictionary[hotel_type][key] = {'room_rate': room_rate, 'room_count': 1 }\n",
        "      \n",
        "train.apply(lambda x: calculate_adr_per_row(x['Expected_checkin'], x['Expected_checkout'], x['Hotel_Type'], x['Room_Rate'], train_adr), axis=1)\n",
        "validation.apply(lambda x: calculate_adr_per_row(x['Expected_checkin'], x['Expected_checkout'], x['Hotel_Type'], x['Room_Rate'], validation_adr), axis=1)\n",
        "test.apply(lambda x: calculate_adr_per_row(x['Expected_checkin'], x['Expected_checkout'], x['Hotel_Type'], x['Room_Rate'], test_adr), axis=1)"
      ],
      "execution_count": null,
      "outputs": [
        {
          "output_type": "execute_result",
          "data": {
            "text/plain": [
              "0       None\n",
              "1       None\n",
              "2       None\n",
              "3       None\n",
              "4       None\n",
              "        ... \n",
              "4313    None\n",
              "4314    None\n",
              "4315    None\n",
              "4316    None\n",
              "4317    None\n",
              "Length: 4318, dtype: object"
            ]
          },
          "metadata": {
            "tags": []
          },
          "execution_count": 6
        }
      ]
    },
    {
      "cell_type": "code",
      "metadata": {
        "id": "fNWDpP6Y-tfF"
      },
      "source": [
        "def get_adr(date, hotel_type, mode=''):\n",
        "  try:\n",
        "    if (mode=='val'):\n",
        "      return validation_adr[hotel_type][date]['room_rate']/validation_adr[hotel_type][date]['room_count']\n",
        "    elif mode == 'test':\n",
        "      return test_adr[hotel_type][date]['room_rate']/test_adr[hotel_type][date]['room_count']\n",
        "    return train_adr[hotel_type][date]['room_rate']/train_adr[hotel_type][date]['room_count']\n",
        "  except Exception as e:\n",
        "    print(mode, 'mode')\n",
        "    print(e,mode)\n",
        "    return 0"
      ],
      "execution_count": null,
      "outputs": []
    },
    {
      "cell_type": "code",
      "metadata": {
        "id": "C1D2lxyL-tfF"
      },
      "source": [
        "def get_room_count(date, hotel_type, mode=''):\n",
        "  try:\n",
        "    if (mode=='val'):\n",
        "      return validation_adr[hotel_type][date]['room_count']\n",
        "    elif mode == 'test':\n",
        "      return test_adr[hotel_type][date]['room_count']\n",
        "    return train_adr[hotel_type][date]['room_count']\n",
        "  except Exception as e:\n",
        "    print(mode, 'mode')\n",
        "    print(e,mode)\n",
        "    return 0"
      ],
      "execution_count": null,
      "outputs": []
    },
    {
      "cell_type": "code",
      "metadata": {
        "id": "S6aDlj6JcTvC"
      },
      "source": [
        "def feature_eng(df,mode=''):\n",
        "  df['ADR']=df.apply(lambda x:get_adr(x['Expected_checkin'],x['Hotel_Type'],mode=mode),axis=1)\n",
        "  df['rooms_occupied']=df.apply(lambda x:get_room_count(x['Expected_checkin'],x['Hotel_Type'],mode=mode),axis=1)\n",
        "  df['Expected_duration']=df.apply(lambda x:get_days(x['Expected_checkin'],x['Expected_checkout']),axis=1)\n",
        "  df['Expected_weekdays']=df.apply(lambda x:workdays(x['Expected_checkin'],x['Expected_checkout']),axis=1)\n",
        "  df['Expected_weekends']=df.apply(lambda x:weekend_days(x['Expected_checkin'],x['Expected_checkout']),axis=1)\n",
        "  df['No_of_date_between_booking_date_expected_checkin']=df.apply(lambda x:get_days(x['Booking_date'],x['Expected_checkin']),axis=1)\n",
        "  df['No_of_date_between_booking_date_expected_checkout']=df.apply(lambda x:get_days(x['Booking_date'],x['Expected_checkout']),axis=1)\n",
        "  df['Expected_checkin_month']=df.apply(lambda x:get_month(x['Expected_checkin']),axis=1)\n",
        "  df['Expected_checkout_month']=df.apply(lambda x:get_month(x['Expected_checkout']),axis=1)\n",
        "  df['Booking_date_month']=df.apply(lambda x:get_month(x['Booking_date']),axis=1)\n",
        "  df['Expected_checkin_year']=df.apply(lambda x:get_year(x['Expected_checkin']),axis=1)\n",
        "  df['Expected_checkout_year']=df.apply(lambda x:get_year(x['Expected_checkout']),axis=1)\n",
        "  df['Booking_date_year']=df.apply(lambda x:get_year(x['Booking_date']),axis=1)\n",
        "  df['Expected_checkin_date']=df.apply(lambda x:get_day(x['Expected_checkin']),axis=1)\n",
        "  df['Expected_checkout_date']=df.apply(lambda x:get_day(x['Expected_checkout']),axis=1)\n",
        "  df['Booking_date_date']=df.apply(lambda x:get_day(x['Booking_date']),axis=1)\n",
        "  df['Expected_checkin_week']=df.apply(lambda x:get_week_of_year(x['Expected_checkin']),axis=1)\n",
        "  df['Expected_checkout_week']=df.apply(lambda x:get_week_of_year(x['Expected_checkout']),axis=1)\n",
        "  df['Booking_date_week']=df.apply(lambda x:get_week_of_year(x['Booking_date']),axis=1)\n",
        "  df=df.drop(['Expected_checkin', 'Expected_checkout','Booking_date'], axis = 1) \n",
        "  return df"
      ],
      "execution_count": null,
      "outputs": []
    },
    {
      "cell_type": "markdown",
      "metadata": {
        "id": "7UB-2M0pMKOE"
      },
      "source": [
        "change columns data types"
      ]
    },
    {
      "cell_type": "code",
      "metadata": {
        "id": "zuyVsyfqL3WY"
      },
      "source": [
        "gender_mapping = {\"F\":1, \"M\":2}\n",
        "education_level_mapping = {\"Mid-School\":1, \"High-School\":2,\"College\":3,\"Grad\":4}\n",
        "income_mapping={\"<25K\":1,\"25K --50K\":2,\"50K -- 100K\":3,\">100K\":4}\n",
        "meal_mapping={\"BB\":1,\"HB\":2,\"FB\":3}\n",
        "deposite_mapping={\"No Deposit\":1,\"Refundable\":2,\"Non-Refundable\":3}\n",
        "reservation_mapping={\"Check-In\":1,\"Canceled\":2,\"No-Show\":3}\n",
        "boolean_mapping={\"Yes\":1,\"No\":0}\n",
        "def mapping(df,mode=\"\"):\n",
        "  df[\"Gender_Enc\"] = df[\"Gender\"].replace(gender_mapping)\n",
        "  df[\"Educational_Level_Enc\"] = df[\"Educational_Level\"].replace(education_level_mapping)\n",
        "  df[\"Income_Enc\"] = df[\"Income\"].replace(income_mapping)\n",
        "  df[\"Meal_Type_Enc\"] = df[\"Meal_Type\"].replace(meal_mapping)\n",
        "  df[\"Deposit_type_EnC\"] = df[\"Deposit_type\"].replace(deposite_mapping)\n",
        "  if(mode !='test'):\n",
        "    df[\"Reservation_Status_Enc\"] = df[\"Reservation_Status\"].replace(reservation_mapping)\n",
        "  df[\"Visted_Previously_Enc\"] = df[\"Visted_Previously\"].replace(boolean_mapping)\n",
        "  df[\"Required_Car_Parking_Enc\"] = df[\"Required_Car_Parking\"].replace(boolean_mapping)\n",
        "  df[\"Previous_Cancellations_Enc\"] = df[\"Previous_Cancellations\"].replace(boolean_mapping)\n",
        "  df[\"Use_Promotion_Enc\"] = df[\"Use_Promotion\"].replace(boolean_mapping)\n",
        "  col=['Gender', 'Educational_Level','Income','Meal_Type','Deposit_type','Reservation_Status','Visted_Previously','Required_Car_Parking','Previous_Cancellations','Use_Promotion','Reservation-id']\n",
        "  if(mode=='test'):\n",
        "    col.remove('Reservation_Status')\n",
        "  df=df.drop(col, axis = 1) \n",
        "  return df"
      ],
      "execution_count": null,
      "outputs": []
    },
    {
      "cell_type": "markdown",
      "metadata": {
        "id": "R0jtQYThMYNk"
      },
      "source": [
        "use oneHotEncoder"
      ]
    },
    {
      "cell_type": "code",
      "metadata": {
        "id": "Pa1LUCZeMeyF"
      },
      "source": [
        "def oneHotEncoder(df):\n",
        "  return pd.get_dummies(data=df, columns=['Ethnicity','Country_region', 'Hotel_Type','Booking_channel'])"
      ],
      "execution_count": null,
      "outputs": []
    },
    {
      "cell_type": "markdown",
      "metadata": {
        "id": "xcORcDa-klE6"
      },
      "source": [
        "Preprocessor"
      ]
    },
    {
      "cell_type": "code",
      "metadata": {
        "id": "hVUHVr53ko3K"
      },
      "source": [
        "def preprocessor(df,mode=\"\"):\n",
        "  df=feature_eng(df,mode=mode)\n",
        "  df= mapping(df,mode=mode)\n",
        "  df=oneHotEncoder(df)\n",
        "  cols_to_norm=df.columns.to_list()\n",
        "  if(mode==\"test\"):\n",
        "    scaler= MinMaxScaler()\n",
        "    df[cols_to_norm]= scaler.fit_transform(df[cols_to_norm])\n",
        "    return df\n",
        "  cols_to_norm.remove('Reservation_Status_Enc')\n",
        "  scaler= MinMaxScaler()\n",
        "  df[cols_to_norm]= scaler.fit_transform(df[cols_to_norm])\n",
        "  X= df.drop('Reservation_Status_Enc',axis=1)\n",
        "  y=df['Reservation_Status_Enc']\n",
        "  return (X,y,df)"
      ],
      "execution_count": null,
      "outputs": []
    },
    {
      "cell_type": "code",
      "metadata": {
        "id": "zQjiMN0F-tfJ"
      },
      "source": [
        "def getBalancedData(X, y):\n",
        "    smote = SMOTE()\n",
        "    X, y = smote.fit_resample(X, y)\n",
        "    return X, y"
      ],
      "execution_count": null,
      "outputs": []
    },
    {
      "cell_type": "markdown",
      "metadata": {
        "id": "jXdxIAnH8Ow2"
      },
      "source": [
        "Visulaization"
      ]
    },
    {
      "cell_type": "code",
      "metadata": {
        "id": "TTJ5upkv8eJM"
      },
      "source": [
        "train_X, train_y, train_df= preprocessor(train)"
      ],
      "execution_count": null,
      "outputs": []
    },
    {
      "cell_type": "code",
      "metadata": {
        "colab": {
          "base_uri": "https://localhost:8080/"
        },
        "id": "18JK-Cx88prN",
        "outputId": "74ff94a4-b7dc-442b-faeb-62d3a181d7c3"
      },
      "source": [
        "train_df.skew()"
      ],
      "execution_count": null,
      "outputs": [
        {
          "output_type": "execute_result",
          "data": {
            "text/plain": [
              "Age                                                  0.003686\n",
              "Adults                                               0.860928\n",
              "Children                                             0.428316\n",
              "Babies                                               1.399147\n",
              "Discount_Rate                                        0.716332\n",
              "Room_Rate                                           -0.000533\n",
              "ADR                                                 -0.061527\n",
              "rooms_occupied                                       0.191319\n",
              "Expected_duration                                    0.855781\n",
              "Expected_weekdays                                    0.257352\n",
              "Expected_weekends                                    0.485310\n",
              "No_of_date_between_booking_date_expected_checkin     0.799717\n",
              "No_of_date_between_booking_date_expected_checkout    0.800566\n",
              "Expected_checkin_month                               0.051554\n",
              "Expected_checkout_month                              0.044349\n",
              "Booking_date_month                                  -0.125381\n",
              "Expected_checkin_year                                0.192838\n",
              "Expected_checkout_year                               0.187138\n",
              "Booking_date_year                                    0.576438\n",
              "Expected_checkin_date                               -0.024215\n",
              "Expected_checkout_date                              -0.026393\n",
              "Booking_date_date                                   -0.037413\n",
              "Expected_checkin_week                                0.068515\n",
              "Expected_checkout_week                               0.063418\n",
              "Booking_date_week                                   -0.128013\n",
              "Gender_Enc                                           0.007201\n",
              "Educational_Level_Enc                               -0.271930\n",
              "Income_Enc                                           0.180126\n",
              "Meal_Type_Enc                                        0.640583\n",
              "Deposit_type_EnC                                     1.252644\n",
              "Reservation_Status_Enc                               1.825561\n",
              "Visted_Previously_Enc                                0.709113\n",
              "Required_Car_Parking_Enc                            -0.946145\n",
              "Previous_Cancellations_Enc                           2.437706\n",
              "Use_Promotion_Enc                                   -1.165044\n",
              "Ethnicity_African American                           1.134682\n",
              "Ethnicity_Asian American                             1.163016\n",
              "Ethnicity_Latino                                     1.170239\n",
              "Ethnicity_caucasian                                  1.151352\n",
              "Country_region_East                                  1.511436\n",
              "Country_region_North                                 1.452545\n",
              "Country_region_South                                 0.421069\n",
              "Country_region_West                                  1.513729\n",
              "Hotel_Type_Airport Hotels                            0.691293\n",
              "Hotel_Type_City Hotel                                0.712765\n",
              "Hotel_Type_Resort                                    0.717470\n",
              "Booking_channel_Agent                                2.018393\n",
              "Booking_channel_Direct                               0.932023\n",
              "Booking_channel_Online                              -0.267774\n",
              "dtype: float64"
            ]
          },
          "metadata": {
            "tags": []
          },
          "execution_count": 15
        }
      ]
    },
    {
      "cell_type": "code",
      "metadata": {
        "colab": {
          "base_uri": "https://localhost:8080/",
          "height": 546
        },
        "id": "o2ink7uT-tfL",
        "outputId": "4e25b01f-6351-4498-9e5c-943d82cd00c5"
      },
      "source": [
        "from sklearn.ensemble import RandomForestClassifier\n",
        "from matplotlib import pyplot as plt\n",
        "rfc = RandomForestClassifier();\n",
        "\n",
        "# fit random forest classifier on the training set\n",
        "train_X, train_y,train_df= preprocessor(train)\n",
        "rfc.fit(train_X, train_y);\n",
        "\n",
        "# extract important features\n",
        "score = np.round(rfc.feature_importances_,3)\n",
        "importances = pd.DataFrame({'feature':train_X.columns,'importance':score})\n",
        "importances = importances.sort_values('importance',ascending=False).set_index('feature')\n",
        "\n",
        "# plot importances\n",
        "plt.rcParams['figure.figsize'] = (11, 4)\n",
        "importances.plot.bar();"
      ],
      "execution_count": null,
      "outputs": [
        {
          "output_type": "display_data",
          "data": {
            "image/png": "[encoded data removed]",
            "text/plain": [
              "<Figure size 792x288 with 1 Axes>"
            ]
          },
          "metadata": {
            "tags": []
          }
        }
      ]
    },
    {
      "cell_type": "code",
      "metadata": {
        "id": "CipgLwIj-tfL"
      },
      "source": [
        "from sklearn.feature_selection import RFE\n",
        "import itertools\n",
        "rfc = RandomForestClassifier()\n",
        "\n",
        "rfe = RFE(rfc, n_features_to_select=10)\n",
        "rfe = rfe.fit(train_X, train_y)\n",
        "\n",
        "# summarize the selection of the attributes\n",
        "feature_map = [(i, v) for i, v in itertools.zip_longest(rfe.get_support(), train_X.columns)]\n",
        "selected_features = [v for i, v in feature_map if i==True]\n",
        "\n",
        "selected_features"
      ],
      "execution_count": null,
      "outputs": []
    },
    {
      "cell_type": "code",
      "metadata": {
        "colab": {
          "background_save": true
        },
        "id": "6V2u2GdX-tfM",
        "outputId": "c001b5b4-c177-467a-f165-17f8c0aeda06"
      },
      "source": [
        "train_X = train_X[['Age',\n",
        " 'Room_Rate',\n",
        " 'ADR',\n",
        " 'rooms_occupied',\n",
        " 'No_of_date_between_booking_date_expected_checkin',\n",
        " 'No_of_date_between_booking_date_expected_checkout',\n",
        " 'Expected_checkin_date',\n",
        " 'Expected_checkout_date',\n",
        " 'Booking_date_date',\n",
        " 'Booking_date_week']]\n",
        "# balanced_train_X, balanced_train_y = getBalancedData(train_X, train_y)"
      ],
      "execution_count": null,
      "outputs": [
        {
          "output_type": "stream",
          "text": [
            "/usr/local/lib/python3.7/dist-packages/sklearn/utils/deprecation.py:87: FutureWarning: Function safe_indexing is deprecated; safe_indexing is deprecated in version 0.22 and will be removed in version 0.24.\n",
            "  warnings.warn(msg, category=FutureWarning)\n",
            "/usr/local/lib/python3.7/dist-packages/sklearn/utils/deprecation.py:87: FutureWarning: Function safe_indexing is deprecated; safe_indexing is deprecated in version 0.22 and will be removed in version 0.24.\n",
            "  warnings.warn(msg, category=FutureWarning)\n"
          ],
          "name": "stderr"
        }
      ]
    },
    {
      "cell_type": "markdown",
      "metadata": {
        "id": "OGNCpjGulit0"
      },
      "source": [
        "Model evaluation"
      ]
    },
    {
      "cell_type": "code",
      "metadata": {
        "id": "si4mst8gl5OV"
      },
      "source": [
        "cv = StratifiedKFold(n_splits=5, random_state=1, shuffle=True)\n",
        "base_models = [(\"DT_model\", DecisionTreeClassifier(random_state=42)),\n",
        "               (\"RF_model\", RandomForestClassifier(random_state=42,n_jobs=-1,n_estimators=400)),\n",
        "               (\"XT_model\",ExtraTreesClassifier()),\n",
        "#                (\"LR_model\", LogisticRegression(random_state=42,n_jobs=-1,max_iter=250)),\n",
        "               (\"XGB_model\", XGBClassifier(random_state=42, n_jobs=-1)),\n",
        "#                (\"MLP_model\",MLPClassifier(random_state=42)),\n",
        "#                (\"Knn_model\",KNeighborsClassifier(n_neighbors=3)),\n",
        "#                (\"CatBoost\",CatBoostClassifier(n_estimators=400)),\n",
        "               (\"NB_model\",GaussianNB()),\n",
        "               (\"LDA_model\",LinearDiscriminantAnalysis())]\n",
        "\n",
        "for name, model in (base_models):\n",
        "  scores = cross_val_score(model, balanced_train_X, balanced_train_y, scoring='f1_macro', cv=cv, n_jobs=-1)\n",
        "  print(f\"{name} F1 Score: {round(np.mean(scores),4), round(np.std(scores),4)}\")"
      ],
      "execution_count": null,
      "outputs": []
    },
    {
      "cell_type": "code",
      "metadata": {
        "colab": {
          "background_save": true,
          "base_uri": "https://localhost:8080/"
        },
        "id": "aQb_JQQmVpuL",
        "outputId": "cd1b5b4e-c606-45ce-ee7b-d05465db3d6c"
      },
      "source": [
        "from sklearn.metrics import f1_score, classification_report, plot_confusion_matrix,confusion_matrix,homogeneity_completeness_v_measure,accuracy_score,adjusted_rand_score\n",
        "validation_X,validation_y,validation_df= preprocessor(validation,mode='val')\n",
        "validation_X = validation_X[['Age',\n",
        " 'Room_Rate',\n",
        " 'ADR',\n",
        " 'rooms_occupied',\n",
        " 'No_of_date_between_booking_date_expected_checkin',\n",
        " 'No_of_date_between_booking_date_expected_checkout',\n",
        " 'Expected_checkin_date',\n",
        " 'Expected_checkout_date',\n",
        " 'Booking_date_date',\n",
        " 'Booking_date_week']]\n",
        "model=DecisionTreeClassifier()\n",
        "model.fit(train_X,train_y)\n",
        "pred=model.predict(validation_X)\n",
        "acc= accuracy_score(validation_y,pred)\n",
        "fscore=f1_score(validation_y,pred,average=\"macro\")\n",
        "print(acc,fscore)\n",
        "print(classification_report(validation_y,pred))"
      ],
      "execution_count": null,
      "outputs": [
        {
          "output_type": "stream",
          "text": [
            "0.5383775918515824 0.3090326927042701\n",
            "              precision    recall  f1-score   support\n",
            "\n",
            "           1       0.59      0.86      0.70      1610\n",
            "           2       0.30      0.09      0.14       741\n",
            "           3       0.15      0.06      0.09       398\n",
            "\n",
            "    accuracy                           0.54      2749\n",
            "   macro avg       0.35      0.34      0.31      2749\n",
            "weighted avg       0.45      0.54      0.46      2749\n",
            "\n"
          ],
          "name": "stdout"
        }
      ]
    },
    {
      "cell_type": "code",
      "metadata": {
        "id": "q7b0kFVKZwRe"
      },
      "source": [
        "\n",
        "test_X = preprocessor(test,mode='test')\n",
        "test_X = test_X[['Age',\n",
        " 'Room_Rate',\n",
        " 'ADR',\n",
        " 'rooms_occupied',\n",
        " 'No_of_date_between_booking_date_expected_checkin',\n",
        " 'No_of_date_between_booking_date_expected_checkout',\n",
        " 'Expected_checkin_date',\n",
        " 'Expected_checkout_date',\n",
        " 'Booking_date_date',\n",
        " 'Booking_date_week']]\n",
        "y_pred = model.predict(test_X)"
      ],
      "execution_count": null,
      "outputs": []
    },
    {
      "cell_type": "code",
      "metadata": {
        "colab": {
          "base_uri": "https://localhost:8080/",
          "height": 198
        },
        "id": "ALnxWipf-tfN",
        "outputId": "e20795f5-23c6-46df-9087-b17655da7dfd"
      },
      "source": [
        "submission = pd.DataFrame({'Reservation-id':test['Reservation-id'],'Reservation_status':y_pred})\n",
        "submission.head(5)"
      ],
      "execution_count": null,
      "outputs": [
        {
          "output_type": "execute_result",
          "data": {
            "text/html": [
              "<div>\n",
              "<style scoped>\n",
              "    .dataframe tbody tr th:only-of-type {\n",
              "        vertical-align: middle;\n",
              "    }\n",
              "\n",
              "    .dataframe tbody tr th {\n",
              "        vertical-align: top;\n",
              "    }\n",
              "\n",
              "    .dataframe thead th {\n",
              "        text-align: right;\n",
              "    }\n",
              "</style>\n",
              "<table border=\"1\" class=\"dataframe\">\n",
              "  <thead>\n",
              "    <tr style=\"text-align: right;\">\n",
              "      <th></th>\n",
              "      <th>Reservation-id</th>\n",
              "      <th>Reservation_status</th>\n",
              "    </tr>\n",
              "  </thead>\n",
              "  <tbody>\n",
              "    <tr>\n",
              "      <th>0</th>\n",
              "      <td>62931593</td>\n",
              "      <td>3</td>\n",
              "    </tr>\n",
              "    <tr>\n",
              "      <th>1</th>\n",
              "      <td>70586099</td>\n",
              "      <td>1</td>\n",
              "    </tr>\n",
              "    <tr>\n",
              "      <th>2</th>\n",
              "      <td>4230648</td>\n",
              "      <td>2</td>\n",
              "    </tr>\n",
              "    <tr>\n",
              "      <th>3</th>\n",
              "      <td>25192322</td>\n",
              "      <td>1</td>\n",
              "    </tr>\n",
              "    <tr>\n",
              "      <th>4</th>\n",
              "      <td>80931528</td>\n",
              "      <td>3</td>\n",
              "    </tr>\n",
              "  </tbody>\n",
              "</table>\n",
              "</div>"
            ],
            "text/plain": [
              "   Reservation-id  Reservation_status\n",
              "0        62931593                   3\n",
              "1        70586099                   1\n",
              "2         4230648                   2\n",
              "3        25192322                   1\n",
              "4        80931528                   3"
            ]
          },
          "metadata": {
            "tags": []
          },
          "execution_count": 25
        }
      ]
    },
    {
      "cell_type": "code",
      "metadata": {
        "id": "TPVPF1hO-tfN"
      },
      "source": [
        "submission.to_csv('./submission-1.csv',index=False)"
      ],
      "execution_count": null,
      "outputs": []
    },
    {
      "cell_type": "code",
      "metadata": {
        "id": "qJMlGLI-C8zH"
      },
      "source": [
        ""
      ],
      "execution_count": null,
      "outputs": []
    }
  ]
}